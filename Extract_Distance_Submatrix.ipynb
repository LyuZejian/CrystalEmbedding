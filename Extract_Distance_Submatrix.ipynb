{
 "cells": [
  {
   "cell_type": "code",
   "execution_count": 8,
   "id": "ef59d848",
   "metadata": {
    "pycharm": {
     "name": "#%%\n"
    }
   },
   "outputs": [],
   "source": [
    "import cirpy\n",
    "import json\n",
    "import matplotlib.pyplot as plt\n",
    "import numpy as np\n",
    "import pandas as pd\n",
    "import time\n",
    "from gensim.models import Word2Vec\n",
    "from scipy.stats import pearsonr, spearmanr\n",
    "from tqdm import tqdm"
   ]
  },
  {
   "cell_type": "code",
   "execution_count": 9,
   "id": "6a3cb6ea",
   "metadata": {
    "pycharm": {
     "name": "#%%\n"
    }
   },
   "outputs": [],
   "source": [
    "crystals = pd.read_csv('./data_c/entry_mention.csv')"
   ]
  },
  {
   "cell_type": "markdown",
   "source": [
    "import cirpy\n",
    "import json\n",
    "import matplotlib.pyplot as plt\n",
    "import numpy as np\n",
    "import pandas as pd\n",
    "import time\n",
    "from gensim.models import Word2Vec\n",
    "from scipy.stats import pearsonr, spearmanr\n",
    "from tqdm import tqdm"
   ],
   "metadata": {
    "collapsed": false,
    "pycharm": {
     "name": "#%% md\n"
    }
   }
  },
  {
   "cell_type": "markdown",
   "id": "99b58075",
   "metadata": {
    "pycharm": {
     "name": "#%% md\n"
    }
   },
   "source": [
    "## Name Ambiguity"
   ]
  },
  {
   "cell_type": "code",
   "execution_count": 10,
   "id": "540d57dd",
   "metadata": {
    "pycharm": {
     "name": "#%%\n"
    }
   },
   "outputs": [
    {
     "data": {
      "text/plain": "                          entries  \\\n0                     acetanilide   \n1              2,6-Dimethylphenol   \n2                          UPC-33   \n3     1-Chloro-2,4-dinitrobenzene   \n4                    tetrahydrate   \n...                           ...   \n1441               benzo[e]pyrene   \n1442               3-aminoflavone   \n1443                    azetidine   \n1444                         MCPA   \n1445          4-aminobenzonitrile   \n\n                                               mentions  csd_id  \n0                                                [2941]  ACANIL  \n1                                              [157226]  DMEPOL  \n2                                              [508171]  METPAF  \n3                   [55124, 55125, 55126, 55127, 55128]  BENCLN  \n4                                      [579884, 741350]  OBORUU  \n...                                                 ...     ...  \n1441                                            [99355]  CEQGEL  \n1442                                           [525087]  MOVBOP  \n1443                                           [946358]  XATMOV  \n1444                                           [112522]  CMPHAA  \n1445  [56689, 56690, 56691, 56692, 56693, 56694, 566...  QEYVUO  \n\n[1446 rows x 3 columns]",
      "text/html": "<div>\n<style scoped>\n    .dataframe tbody tr th:only-of-type {\n        vertical-align: middle;\n    }\n\n    .dataframe tbody tr th {\n        vertical-align: top;\n    }\n\n    .dataframe thead th {\n        text-align: right;\n    }\n</style>\n<table border=\"1\" class=\"dataframe\">\n  <thead>\n    <tr style=\"text-align: right;\">\n      <th></th>\n      <th>entries</th>\n      <th>mentions</th>\n      <th>csd_id</th>\n    </tr>\n  </thead>\n  <tbody>\n    <tr>\n      <th>0</th>\n      <td>acetanilide</td>\n      <td>[2941]</td>\n      <td>ACANIL</td>\n    </tr>\n    <tr>\n      <th>1</th>\n      <td>2,6-Dimethylphenol</td>\n      <td>[157226]</td>\n      <td>DMEPOL</td>\n    </tr>\n    <tr>\n      <th>2</th>\n      <td>UPC-33</td>\n      <td>[508171]</td>\n      <td>METPAF</td>\n    </tr>\n    <tr>\n      <th>3</th>\n      <td>1-Chloro-2,4-dinitrobenzene</td>\n      <td>[55124, 55125, 55126, 55127, 55128]</td>\n      <td>BENCLN</td>\n    </tr>\n    <tr>\n      <th>4</th>\n      <td>tetrahydrate</td>\n      <td>[579884, 741350]</td>\n      <td>OBORUU</td>\n    </tr>\n    <tr>\n      <th>...</th>\n      <td>...</td>\n      <td>...</td>\n      <td>...</td>\n    </tr>\n    <tr>\n      <th>1441</th>\n      <td>benzo[e]pyrene</td>\n      <td>[99355]</td>\n      <td>CEQGEL</td>\n    </tr>\n    <tr>\n      <th>1442</th>\n      <td>3-aminoflavone</td>\n      <td>[525087]</td>\n      <td>MOVBOP</td>\n    </tr>\n    <tr>\n      <th>1443</th>\n      <td>azetidine</td>\n      <td>[946358]</td>\n      <td>XATMOV</td>\n    </tr>\n    <tr>\n      <th>1444</th>\n      <td>MCPA</td>\n      <td>[112522]</td>\n      <td>CMPHAA</td>\n    </tr>\n    <tr>\n      <th>1445</th>\n      <td>4-aminobenzonitrile</td>\n      <td>[56689, 56690, 56691, 56692, 56693, 56694, 566...</td>\n      <td>QEYVUO</td>\n    </tr>\n  </tbody>\n</table>\n<p>1446 rows × 3 columns</p>\n</div>"
     },
     "execution_count": 10,
     "metadata": {},
     "output_type": "execute_result"
    }
   ],
   "source": [
    "crystals"
   ]
  },
  {
   "cell_type": "code",
   "execution_count": 11,
   "id": "d464d329",
   "metadata": {
    "pycharm": {
     "name": "#%%\n"
    }
   },
   "outputs": [],
   "source": [
    "target_csd = crystals.csd_id.values\n",
    "\n",
    "# we have repetitive CSD IDs:\n",
    "ucsd, csd_cnts = np.unique(target_csd, return_counts=True)"
   ]
  },
  {
   "cell_type": "markdown",
   "id": "12947c4a",
   "metadata": {
    "pycharm": {
     "name": "#%% md\n"
    }
   },
   "source": [
    "Some of these repetitive CSDs have crystal names that are different only different up to an upper-case letter (e.g., '1,2-dichlorobenzene' and '1,2-Dichlorobenzene' for CSD = 'ABUMIT') and some have names that are more different (e.g., '2,6-Diaminopyridine' and 'pyridine-2,6-diamine' for CSD = 'FOYLEK'). We'll check how many of each of these categories exist:"
   ]
  },
  {
   "cell_type": "code",
   "execution_count": 12,
   "id": "81a541b1",
   "metadata": {
    "pycharm": {
     "name": "#%%\n"
    }
   },
   "outputs": [
    {
     "data": {
      "text/plain": "       entries mentions  csd_id\n761  bosutinib    [518]  ABEDUJ",
      "text/html": "<div>\n<style scoped>\n    .dataframe tbody tr th:only-of-type {\n        vertical-align: middle;\n    }\n\n    .dataframe tbody tr th {\n        vertical-align: top;\n    }\n\n    .dataframe thead th {\n        text-align: right;\n    }\n</style>\n<table border=\"1\" class=\"dataframe\">\n  <thead>\n    <tr style=\"text-align: right;\">\n      <th></th>\n      <th>entries</th>\n      <th>mentions</th>\n      <th>csd_id</th>\n    </tr>\n  </thead>\n  <tbody>\n    <tr>\n      <th>761</th>\n      <td>bosutinib</td>\n      <td>[518]</td>\n      <td>ABEDUJ</td>\n    </tr>\n  </tbody>\n</table>\n</div>"
     },
     "execution_count": 12,
     "metadata": {},
     "output_type": "execute_result"
    }
   ],
   "source": [
    "crystals[crystals.csd_id == \"ABEDUJ\"]"
   ]
  },
  {
   "cell_type": "code",
   "execution_count": 13,
   "id": "2fb8ff12",
   "metadata": {
    "pycharm": {
     "name": "#%%\n"
    }
   },
   "outputs": [
    {
     "name": "stdout",
     "output_type": "stream",
     "text": [
      "ANTQUO ['anthracene-9,10-dione', '9,10-anthraquinone', '9,10-anthraquinone']\n",
      "BINAPH [\"1,1'-binaphthalene\", \"1,1'-binaphthyl\"]\n",
      "CLANIC ['4-chloroaniline', 'p-chloroaniline']\n",
      "COTZAN ['acetaminophen', 'paracetamol']\n",
      "COUMAR ['chromen-2-one', '2h-1-benzopyran-2-one']\n",
      "COWHUR ['(-)-epicatechin', 'epicatechin']\n",
      "DANTEN ['bianthrone', 'dianthraquinone']\n",
      "DNBENZ ['m-dinitrobenzene', '1,3-dinitrobenzene']\n",
      "DPUREA ['1,3-diphenylurea', \"n,n'-diphenylurea\"]\n",
      "DUCKOB ['n-butane', 'butane']\n",
      "DXYLEN ['[2,2]-paracyclophane', '[2.2]paracyclophane']\n",
      "ETDIAM ['1,2-diaminoethane', '1,2-ethanediamine']\n",
      "FLURON ['9-fluorenone', '9h-fluoren-9-one']\n",
      "FOYLEK ['pyridine-2,6-diamine', '2,6-diaminopyridine']\n",
      "HIQWEJ [\"4,4'-bipyridine\", \"4,4'-bipyridine\", \"4,4'-bipyridyl\"]\n",
      "HXQUIN ['quinolin-8-ol', '8-hydroxyquinoline', '8-hydroxyquinoline']\n",
      "HYQUIN ['benzene-1,4-diol', 'hydroquinone']\n",
      "JEMPEZ ['v11', 'v101']\n",
      "NANILI ['4-nitroaniline', 'p-nitroaniline', '4-nitroaniline']\n",
      "NOZKES ['ethane-1,2-diol', '1,2-ethanediol']\n",
      "OCHTET ['1,3,5,7-tetranitro-1,3,5,7-tetraazacyclooctane', '1,3,5,7-tetranitro-1,3,5,7-tetrazocane']\n",
      "OCRSOL ['2-methylphenol', 'o-cresol']\n",
      "OCTANE ['octane', 'n-octane']\n",
      "PENDAM ['1,4-phenylenediamine', 'p-phenylenediamine']\n",
      "QOVXEG ['co-zif-9', 'zif-9']\n",
      "REKJOH ['1,1,1,3,3,3-hexafluoro-2-propanol', '1,1,1,3,3,3-hexafluoropropan-2-ol']\n",
      "TRIZIN ['1,3,5-triazine', 's-triazine']\n",
      "TSTILB ['trans-stilbene', '(e)-stilbene']\n",
      "ZZZITY ['p-xylene', 'para-xylene']\n",
      "ZZZJIE ['naphthalene-1,2-dione', '1,2-naphthoquinone']\n"
     ]
    }
   ],
   "source": [
    "reps = ucsd[csd_cnts > 1]\n",
    "\n",
    "csd_with_diff_names = []\n",
    "for csd in reps:\n",
    "    names = crystals[crystals.csd_id == csd].entries\n",
    "    #names = D[D['CSD ID'].str.contains(csd)]['chemical name']\n",
    "    names = [x.lower() for x in names]\n",
    "    if len(np.unique(names)) > 1:\n",
    "        print(csd, names)\n",
    "        csd_with_diff_names += [csd]"
   ]
  },
  {
   "cell_type": "code",
   "execution_count": 14,
   "id": "748e897d",
   "metadata": {
    "pycharm": {
     "name": "#%%\n"
    }
   },
   "outputs": [],
   "source": [
    "D = pd.read_csv('./data_c/crystals_wdoi.csv')"
   ]
  },
  {
   "cell_type": "code",
   "execution_count": 15,
   "id": "b3bc728b",
   "metadata": {
    "pycharm": {
     "name": "#%%\n"
    }
   },
   "outputs": [
    {
     "data": {
      "text/plain": "30"
     },
     "execution_count": 15,
     "metadata": {},
     "output_type": "execute_result"
    }
   ],
   "source": [
    "len(csd_with_diff_names)"
   ]
  },
  {
   "cell_type": "markdown",
   "id": "48caa11b",
   "metadata": {
    "pycharm": {
     "name": "#%% md\n"
    }
   },
   "source": [
    "For those CSDs with different chemical names, we break the all the corresponding CSDs accordingly. For example, for CSD \"DUCKOB\" we have the following names:"
   ]
  },
  {
   "cell_type": "code",
   "execution_count": 16,
   "id": "dec6a04e",
   "metadata": {
    "pycharm": {
     "name": "#%%\n"
    }
   },
   "outputs": [
    {
     "data": {
      "text/plain": "909     n-Butane\n1433      butane\nName: entries, dtype: object"
     },
     "execution_count": 16,
     "metadata": {},
     "output_type": "execute_result"
    }
   ],
   "source": [
    "csd_with_diff_names\n",
    "crystals[crystals.csd_id == 'DUCKOB'].entries"
   ]
  },
  {
   "cell_type": "markdown",
   "id": "f38dfb95",
   "metadata": {
    "pycharm": {
     "name": "#%% md\n"
    }
   },
   "source": [
    "whereas the full set of CSD/names for this ID is the following set:"
   ]
  },
  {
   "cell_type": "code",
   "execution_count": 17,
   "id": "fa4a401c",
   "metadata": {
    "pycharm": {
     "name": "#%%\n"
    }
   },
   "outputs": [
    {
     "data": {
      "text/plain": "          CSD ID         chemical name\n167061    DUCKOB  Decadeutero-n-butane\n167062  DUCKOB01  Decadeutero-n-butane\n167063  DUCKOB02  Decadeutero-n-butane\n167064  DUCKOB03  Decadeutero-n-butane\n167065  DUCKOB04              n-Butane\n167066  DUCKOB05                butane\n167067  DUCKOB06                butane\n167068  DUCKOB07                butane\n167069  DUCKOB08                butane\n167070  DUCKOB09                butane",
      "text/html": "<div>\n<style scoped>\n    .dataframe tbody tr th:only-of-type {\n        vertical-align: middle;\n    }\n\n    .dataframe tbody tr th {\n        vertical-align: top;\n    }\n\n    .dataframe thead th {\n        text-align: right;\n    }\n</style>\n<table border=\"1\" class=\"dataframe\">\n  <thead>\n    <tr style=\"text-align: right;\">\n      <th></th>\n      <th>CSD ID</th>\n      <th>chemical name</th>\n    </tr>\n  </thead>\n  <tbody>\n    <tr>\n      <th>167061</th>\n      <td>DUCKOB</td>\n      <td>Decadeutero-n-butane</td>\n    </tr>\n    <tr>\n      <th>167062</th>\n      <td>DUCKOB01</td>\n      <td>Decadeutero-n-butane</td>\n    </tr>\n    <tr>\n      <th>167063</th>\n      <td>DUCKOB02</td>\n      <td>Decadeutero-n-butane</td>\n    </tr>\n    <tr>\n      <th>167064</th>\n      <td>DUCKOB03</td>\n      <td>Decadeutero-n-butane</td>\n    </tr>\n    <tr>\n      <th>167065</th>\n      <td>DUCKOB04</td>\n      <td>n-Butane</td>\n    </tr>\n    <tr>\n      <th>167066</th>\n      <td>DUCKOB05</td>\n      <td>butane</td>\n    </tr>\n    <tr>\n      <th>167067</th>\n      <td>DUCKOB06</td>\n      <td>butane</td>\n    </tr>\n    <tr>\n      <th>167068</th>\n      <td>DUCKOB07</td>\n      <td>butane</td>\n    </tr>\n    <tr>\n      <th>167069</th>\n      <td>DUCKOB08</td>\n      <td>butane</td>\n    </tr>\n    <tr>\n      <th>167070</th>\n      <td>DUCKOB09</td>\n      <td>butane</td>\n    </tr>\n  </tbody>\n</table>\n</div>"
     },
     "execution_count": 17,
     "metadata": {},
     "output_type": "execute_result"
    }
   ],
   "source": [
    "D[D['CSD ID'].str.contains('DUCKOB')][['CSD ID', 'chemical name']]"
   ]
  },
  {
   "cell_type": "markdown",
   "id": "97e4019d",
   "metadata": {
    "pycharm": {
     "name": "#%% md\n"
    }
   },
   "source": [
    "We note that there are three different names associated with this CSD: \"Decadeutero-n-butane\", \"n-Butane\" and \"butane\". Among these, only the last two names exist in our word2vec model. And then there are also combination of these cases:"
   ]
  },
  {
   "cell_type": "code",
   "execution_count": 18,
   "id": "5fc6754a",
   "metadata": {
    "pycharm": {
     "name": "#%%\n"
    }
   },
   "outputs": [
    {
     "data": {
      "text/plain": "                   entries                                           mentions  \\\n234  anthracene-9,10-dione  [23036, 23037, 23038, 23039, 23040, 23041, 230...   \n458     9,10-anthraquinone                                            [23035]   \n847     9,10-Anthraquinone                                            [23034]   \n\n     csd_id  \n234  ANTQUO  \n458  ANTQUO  \n847  ANTQUO  ",
      "text/html": "<div>\n<style scoped>\n    .dataframe tbody tr th:only-of-type {\n        vertical-align: middle;\n    }\n\n    .dataframe tbody tr th {\n        vertical-align: top;\n    }\n\n    .dataframe thead th {\n        text-align: right;\n    }\n</style>\n<table border=\"1\" class=\"dataframe\">\n  <thead>\n    <tr style=\"text-align: right;\">\n      <th></th>\n      <th>entries</th>\n      <th>mentions</th>\n      <th>csd_id</th>\n    </tr>\n  </thead>\n  <tbody>\n    <tr>\n      <th>234</th>\n      <td>anthracene-9,10-dione</td>\n      <td>[23036, 23037, 23038, 23039, 23040, 23041, 230...</td>\n      <td>ANTQUO</td>\n    </tr>\n    <tr>\n      <th>458</th>\n      <td>9,10-anthraquinone</td>\n      <td>[23035]</td>\n      <td>ANTQUO</td>\n    </tr>\n    <tr>\n      <th>847</th>\n      <td>9,10-Anthraquinone</td>\n      <td>[23034]</td>\n      <td>ANTQUO</td>\n    </tr>\n  </tbody>\n</table>\n</div>"
     },
     "execution_count": 18,
     "metadata": {},
     "output_type": "execute_result"
    }
   ],
   "source": [
    "crystals[crystals.csd_id == csd_with_diff_names[0]]"
   ]
  },
  {
   "cell_type": "markdown",
   "id": "62a40ba7",
   "metadata": {
    "pycharm": {
     "name": "#%% md\n"
    }
   },
   "source": [
    "## Identify CSDs for Names More Accurately\n",
    "We used to identify CSD of any given name such that all variations of its CSD is also considered. For example, for \"DUCKOB\", considering all variations of CSD gives us \"Decadeutero-n-butane\" too, which seems slightly different than \"butane\" than is included in our word2vec vocabulary.\n",
    "\n",
    "Hence, here we take each given chemical name, and only consider those CSD variations whose names exactly (up to uppercase letters) match our candidate."
   ]
  },
  {
   "cell_type": "code",
   "execution_count": 19,
   "id": "4fabd379",
   "metadata": {
    "pycharm": {
     "name": "#%%\n"
    }
   },
   "outputs": [],
   "source": [
    "target_names = crystals['entries'].values"
   ]
  },
  {
   "cell_type": "code",
   "execution_count": 20,
   "id": "2e10b653",
   "metadata": {
    "pycharm": {
     "name": "#%%\n"
    }
   },
   "outputs": [],
   "source": [
    "D['chemical name'] = D['chemical name'].str.lower()\n",
    "D['synonyms'] = D['synonyms'].str.lower()"
   ]
  },
  {
   "cell_type": "code",
   "execution_count": 21,
   "id": "58296fed",
   "metadata": {
    "pycharm": {
     "name": "#%%\n"
    }
   },
   "outputs": [],
   "source": [
    "# we do not differ upper- or lower-case letters\n",
    "target_names = np.unique([x.lower() for x in target_names])"
   ]
  },
  {
   "cell_type": "code",
   "execution_count": 24,
   "id": "9c9e6f69",
   "metadata": {
    "pycharm": {
     "name": "#%%\n"
    }
   },
   "outputs": [
    {
     "name": "stderr",
     "output_type": "stream",
     "text": [
      "100%|██████████| 1421/1421 [01:44<00:00, 13.62it/s]"
     ]
    },
    {
     "name": "stdout",
     "output_type": "stream",
     "text": [
      "CPU times: user 1min 42s, sys: 1.38 s, total: 1min 44s\n",
      "Wall time: 1min 44s\n"
     ]
    },
    {
     "name": "stderr",
     "output_type": "stream",
     "text": [
      "\n"
     ]
    }
   ],
   "source": [
    "%%time\n",
    "name2csd = {}\n",
    "for name in tqdm(target_names):\n",
    "    csds = D[(D['chemical name'] == name) | (D['synonyms'] == name)]['CSD ID'].values\n",
    "    name2csd[name] = csds.tolist()"
   ]
  },
  {
   "cell_type": "markdown",
   "id": "8e7d0694",
   "metadata": {
    "pycharm": {
     "name": "#%% md\n"
    }
   },
   "source": [
    "*Minor Issue:* It seems that some terms are equivalent to each other (this is because we foudn that some CSDs are associated with two names after exact-matching). Here is the list manually compiled:\n",
    "* \"acetaminophen\"   & \"paracetamol\"\n",
    "* \"bianthrone\" & \"dianthraquinone\"\n",
    "* \"hydroquinone\" & \"benzene-1,4-diol\"\n",
    "* \"2-methylphenol\" & \"o-cresol\"\n",
    "* \"s-triazine\" & \"1,3,5-triazine\"\n",
    "* \"m-dinitrobenzene\" & \"1,3-dinitrobenzene\t\""
   ]
  },
  {
   "cell_type": "code",
   "execution_count": 25,
   "id": "10b091fc",
   "metadata": {
    "pycharm": {
     "name": "#%%\n"
    }
   },
   "outputs": [
    {
     "data": {
      "text/plain": "[['COTZAN', 'COTZAN01', 'COTZAN05', 'COTZAN07', 'HXACAN49'],\n ['DANTEN03'],\n ['HYQUIN10', 'HYQUIN11', 'HYQUIN12', 'HYQUIN13'],\n ['OCRSOL', 'OCRSOL02'],\n ['TRIZIN06'],\n ['DNBENZ11', 'DNBENZ12', 'DNBENZ13', 'DNBENZ14', 'DNBENZ15']]"
     },
     "execution_count": 25,
     "metadata": {},
     "output_type": "execute_result"
    }
   ],
   "source": [
    "to_remove = ['paracetamol', 'dianthraquinone', 'benzene-1,4-diol', 'o-cresol', '1,3,5-triazine', '1,3-dinitrobenzene']\n",
    "\n",
    "[name2csd.pop(x) for x in to_remove]"
   ]
  },
  {
   "cell_type": "code",
   "execution_count": 26,
   "id": "e34f4fe7",
   "metadata": {
    "pycharm": {
     "name": "#%%\n"
    }
   },
   "outputs": [],
   "source": [
    "# saving the dictionary\n",
    "with open(\"name_to_csd.json\", \"w\") as f:\n",
    "    json.dump(name2csd, f, indent=True)"
   ]
  },
  {
   "cell_type": "markdown",
   "id": "def3726c",
   "metadata": {
    "pycharm": {
     "name": "#%% md\n"
    }
   },
   "source": [
    "## Extracting the Relevant Sub-matrix"
   ]
  },
  {
   "cell_type": "code",
   "execution_count": 27,
   "id": "bddaa729",
   "metadata": {
    "pycharm": {
     "name": "#%%\n"
    }
   },
   "outputs": [],
   "source": [
    "# all the CSDs that are involved\n",
    "target_csds = sum(name2csd.values(), [])"
   ]
  },
  {
   "cell_type": "code",
   "execution_count": 28,
   "id": "b2a77a6d",
   "metadata": {
    "pycharm": {
     "name": "#%%\n"
    }
   },
   "outputs": [],
   "source": [
    "store = pd.HDFStore('./data_c/entry_mention_vs_CSD_AMD100_dm.h5')"
   ]
  },
  {
   "cell_type": "code",
   "execution_count": null,
   "outputs": [],
   "source": [
    "# get the first chunk to set up the column-locator\n",
    "chunk = store.select('df', start=0, stop=100)\n",
    "cols = chunk.columns\n",
    "cols_locator = cols.isin(target_csds)"
   ],
   "metadata": {
    "collapsed": false,
    "pycharm": {
     "name": "#%%\n"
    }
   }
  },
  {
   "cell_type": "code",
   "execution_count": 217,
   "id": "2ad59e76",
   "metadata": {
    "pycharm": {
     "name": "#%%\n"
    }
   },
   "outputs": [
    {
     "name": "stderr",
     "output_type": "stream",
     "text": [
      "100%|███████████████████████████████████████████████████████████| 40/40 [01:23<00:00,  2.09s/it]"
     ]
    },
    {
     "name": "stdout",
     "output_type": "stream",
     "text": [
      "CPU times: user 1min 4s, sys: 18.3 s, total: 1min 23s\n",
      "Wall time: 1min 23s\n"
     ]
    },
    {
     "name": "stderr",
     "output_type": "stream",
     "text": [
      "\n"
     ]
    }
   ],
   "source": [
    "%%time\n",
    "\n",
    "submat = pd.DataFrame([])\n",
    "\n",
    "# I already checked it out and saw that the number of rows in the larger matrix is 3926,\n",
    "# hence we need 39+1=40 iterations (assuming the chunk size is 100)\n",
    "for i in tqdm(range(40)):\n",
    "    chunk = store.select('df', start=i * 100, stop=(i + 1) * 100)\n",
    "    row_locator = chunk.index.isin(target_csds)\n",
    "    # double check if the order of columns does not change across the chunks\n",
    "    assert np.all(chunk.columns == cols), \"Order of the columns suddenly changed in the {}-th chunk.\".format(i)\n",
    "    # get the submatrix in the chunk and append it to the previous submatrices\n",
    "    sub_chunk = chunk.iloc[row_locator, cols_locator]\n",
    "    submat = pd.concat((submat, sub_chunk), axis=0)"
   ]
  },
  {
   "cell_type": "code",
   "execution_count": 218,
   "id": "2ab56c65",
   "metadata": {
    "pycharm": {
     "name": "#%%\n"
    }
   },
   "outputs": [
    {
     "data": {
      "text/plain": [
       "(2658, 3064)"
      ]
     },
     "execution_count": 218,
     "metadata": {},
     "output_type": "execute_result"
    }
   ],
   "source": [
    "submat.shape"
   ]
  },
  {
   "cell_type": "code",
   "execution_count": null,
   "id": "9bef3a10",
   "metadata": {
    "pycharm": {
     "name": "#%%\n"
    }
   },
   "outputs": [],
   "source": [
    "submat.to_csv('mst_dists_submatrix.csv')"
   ]
  },
  {
   "cell_type": "markdown",
   "id": "98969bbb",
   "metadata": {
    "pycharm": {
     "name": "#%% md\n"
    }
   },
   "source": [
    "# Compute the Similarity Matrix"
   ]
  },
  {
   "cell_type": "code",
   "execution_count": 6,
   "id": "0e6fc676",
   "metadata": {
    "pycharm": {
     "name": "#%%\n"
    }
   },
   "outputs": [
    {
     "data": {
      "text/html": [
       "<div>\n",
       "<style scoped>\n",
       "    .dataframe tbody tr th:only-of-type {\n",
       "        vertical-align: middle;\n",
       "    }\n",
       "\n",
       "    .dataframe tbody tr th {\n",
       "        vertical-align: top;\n",
       "    }\n",
       "\n",
       "    .dataframe thead th {\n",
       "        text-align: right;\n",
       "    }\n",
       "</style>\n",
       "<table border=\"1\" class=\"dataframe\">\n",
       "  <thead>\n",
       "    <tr style=\"text-align: right;\">\n",
       "      <th></th>\n",
       "      <th>ABIREM</th>\n",
       "      <th>ABUMIT</th>\n",
       "      <th>ABUMIT01</th>\n",
       "      <th>ABUMOZ</th>\n",
       "      <th>ABUMOZ01</th>\n",
       "      <th>ABUMOZ02</th>\n",
       "      <th>ABUMOZ03</th>\n",
       "      <th>ABUMOZ04</th>\n",
       "      <th>ABUMOZ05</th>\n",
       "      <th>ABUMOZ06</th>\n",
       "      <th>...</th>\n",
       "      <th>ZAMRIS01</th>\n",
       "      <th>ZAMRIS02</th>\n",
       "      <th>ZAMRIS03</th>\n",
       "      <th>ZAMSEP</th>\n",
       "      <th>ZAMSEP01</th>\n",
       "      <th>ZAMSEP02</th>\n",
       "      <th>ZAMSEP03</th>\n",
       "      <th>ZOGROF01</th>\n",
       "      <th>ZOGROF02</th>\n",
       "      <th>ZOYLII15</th>\n",
       "    </tr>\n",
       "  </thead>\n",
       "  <tbody>\n",
       "    <tr>\n",
       "      <th>ACANIL</th>\n",
       "      <td>0.147719</td>\n",
       "      <td>0.740934</td>\n",
       "      <td>0.714968</td>\n",
       "      <td>0.794301</td>\n",
       "      <td>0.766036</td>\n",
       "      <td>0.678040</td>\n",
       "      <td>0.610771</td>\n",
       "      <td>0.573940</td>\n",
       "      <td>0.489780</td>\n",
       "      <td>0.461020</td>\n",
       "      <td>...</td>\n",
       "      <td>0.644621</td>\n",
       "      <td>0.572505</td>\n",
       "      <td>0.565113</td>\n",
       "      <td>0.458489</td>\n",
       "      <td>0.461380</td>\n",
       "      <td>0.455188</td>\n",
       "      <td>0.454861</td>\n",
       "      <td>1.303028</td>\n",
       "      <td>1.365292</td>\n",
       "      <td>0.094109</td>\n",
       "    </tr>\n",
       "    <tr>\n",
       "      <th>ACANIL01</th>\n",
       "      <td>0.109256</td>\n",
       "      <td>0.823257</td>\n",
       "      <td>0.798499</td>\n",
       "      <td>0.883535</td>\n",
       "      <td>0.850319</td>\n",
       "      <td>0.766803</td>\n",
       "      <td>0.699711</td>\n",
       "      <td>0.664163</td>\n",
       "      <td>0.577626</td>\n",
       "      <td>0.552211</td>\n",
       "      <td>...</td>\n",
       "      <td>0.728399</td>\n",
       "      <td>0.663161</td>\n",
       "      <td>0.655770</td>\n",
       "      <td>0.517233</td>\n",
       "      <td>0.513891</td>\n",
       "      <td>0.508295</td>\n",
       "      <td>0.508317</td>\n",
       "      <td>1.387830</td>\n",
       "      <td>1.450095</td>\n",
       "      <td>0.086162</td>\n",
       "    </tr>\n",
       "    <tr>\n",
       "      <th>ACANIL02</th>\n",
       "      <td>0.159793</td>\n",
       "      <td>0.852137</td>\n",
       "      <td>0.826805</td>\n",
       "      <td>0.901732</td>\n",
       "      <td>0.869897</td>\n",
       "      <td>0.789759</td>\n",
       "      <td>0.717908</td>\n",
       "      <td>0.682431</td>\n",
       "      <td>0.597171</td>\n",
       "      <td>0.567432</td>\n",
       "      <td>...</td>\n",
       "      <td>0.735640</td>\n",
       "      <td>0.659888</td>\n",
       "      <td>0.652096</td>\n",
       "      <td>0.464502</td>\n",
       "      <td>0.456971</td>\n",
       "      <td>0.450780</td>\n",
       "      <td>0.450452</td>\n",
       "      <td>1.403503</td>\n",
       "      <td>1.469004</td>\n",
       "      <td>0.093638</td>\n",
       "    </tr>\n",
       "    <tr>\n",
       "      <th>ACANIL03</th>\n",
       "      <td>0.127033</td>\n",
       "      <td>0.743361</td>\n",
       "      <td>0.718100</td>\n",
       "      <td>0.804902</td>\n",
       "      <td>0.773959</td>\n",
       "      <td>0.691923</td>\n",
       "      <td>0.621077</td>\n",
       "      <td>0.585530</td>\n",
       "      <td>0.501172</td>\n",
       "      <td>0.472413</td>\n",
       "      <td>...</td>\n",
       "      <td>0.653233</td>\n",
       "      <td>0.583272</td>\n",
       "      <td>0.575880</td>\n",
       "      <td>0.480771</td>\n",
       "      <td>0.483662</td>\n",
       "      <td>0.477470</td>\n",
       "      <td>0.477142</td>\n",
       "      <td>1.309473</td>\n",
       "      <td>1.371738</td>\n",
       "      <td>0.083014</td>\n",
       "    </tr>\n",
       "    <tr>\n",
       "      <th>ACANIL04</th>\n",
       "      <td>0.137717</td>\n",
       "      <td>0.757324</td>\n",
       "      <td>0.729058</td>\n",
       "      <td>0.793515</td>\n",
       "      <td>0.762769</td>\n",
       "      <td>0.678887</td>\n",
       "      <td>0.613481</td>\n",
       "      <td>0.580300</td>\n",
       "      <td>0.497479</td>\n",
       "      <td>0.468719</td>\n",
       "      <td>...</td>\n",
       "      <td>0.651822</td>\n",
       "      <td>0.584064</td>\n",
       "      <td>0.571457</td>\n",
       "      <td>0.494588</td>\n",
       "      <td>0.486705</td>\n",
       "      <td>0.485651</td>\n",
       "      <td>0.485672</td>\n",
       "      <td>1.330795</td>\n",
       "      <td>1.393059</td>\n",
       "      <td>0.080850</td>\n",
       "    </tr>\n",
       "    <tr>\n",
       "      <th>...</th>\n",
       "      <td>...</td>\n",
       "      <td>...</td>\n",
       "      <td>...</td>\n",
       "      <td>...</td>\n",
       "      <td>...</td>\n",
       "      <td>...</td>\n",
       "      <td>...</td>\n",
       "      <td>...</td>\n",
       "      <td>...</td>\n",
       "      <td>...</td>\n",
       "      <td>...</td>\n",
       "      <td>...</td>\n",
       "      <td>...</td>\n",
       "      <td>...</td>\n",
       "      <td>...</td>\n",
       "      <td>...</td>\n",
       "      <td>...</td>\n",
       "      <td>...</td>\n",
       "      <td>...</td>\n",
       "      <td>...</td>\n",
       "      <td>...</td>\n",
       "    </tr>\n",
       "    <tr>\n",
       "      <th>MOVBOP02</th>\n",
       "      <td>0.141334</td>\n",
       "      <td>0.734413</td>\n",
       "      <td>0.707115</td>\n",
       "      <td>0.781170</td>\n",
       "      <td>0.752905</td>\n",
       "      <td>0.664909</td>\n",
       "      <td>0.598570</td>\n",
       "      <td>0.565389</td>\n",
       "      <td>0.482568</td>\n",
       "      <td>0.453808</td>\n",
       "      <td>...</td>\n",
       "      <td>0.646935</td>\n",
       "      <td>0.563154</td>\n",
       "      <td>0.553196</td>\n",
       "      <td>0.498515</td>\n",
       "      <td>0.490632</td>\n",
       "      <td>0.489578</td>\n",
       "      <td>0.489600</td>\n",
       "      <td>1.277088</td>\n",
       "      <td>1.340662</td>\n",
       "      <td>0.106110</td>\n",
       "    </tr>\n",
       "    <tr>\n",
       "      <th>XATMOV</th>\n",
       "      <td>0.295053</td>\n",
       "      <td>1.060905</td>\n",
       "      <td>1.037765</td>\n",
       "      <td>1.119136</td>\n",
       "      <td>1.088144</td>\n",
       "      <td>0.993355</td>\n",
       "      <td>0.917164</td>\n",
       "      <td>0.881672</td>\n",
       "      <td>0.792226</td>\n",
       "      <td>0.763455</td>\n",
       "      <td>...</td>\n",
       "      <td>0.923077</td>\n",
       "      <td>0.835107</td>\n",
       "      <td>0.819423</td>\n",
       "      <td>0.626609</td>\n",
       "      <td>0.602785</td>\n",
       "      <td>0.601731</td>\n",
       "      <td>0.601752</td>\n",
       "      <td>1.656759</td>\n",
       "      <td>1.716844</td>\n",
       "      <td>0.342289</td>\n",
       "    </tr>\n",
       "    <tr>\n",
       "      <th>XATMOV01</th>\n",
       "      <td>0.290810</td>\n",
       "      <td>1.056231</td>\n",
       "      <td>1.034406</td>\n",
       "      <td>1.114413</td>\n",
       "      <td>1.081067</td>\n",
       "      <td>0.986278</td>\n",
       "      <td>0.910087</td>\n",
       "      <td>0.875467</td>\n",
       "      <td>0.785149</td>\n",
       "      <td>0.756378</td>\n",
       "      <td>...</td>\n",
       "      <td>0.916001</td>\n",
       "      <td>0.832849</td>\n",
       "      <td>0.817585</td>\n",
       "      <td>0.624694</td>\n",
       "      <td>0.588224</td>\n",
       "      <td>0.563951</td>\n",
       "      <td>0.560656</td>\n",
       "      <td>1.650182</td>\n",
       "      <td>1.709767</td>\n",
       "      <td>0.335212</td>\n",
       "    </tr>\n",
       "    <tr>\n",
       "      <th>CMPHAA01</th>\n",
       "      <td>0.207295</td>\n",
       "      <td>0.678903</td>\n",
       "      <td>0.641646</td>\n",
       "      <td>0.725469</td>\n",
       "      <td>0.691470</td>\n",
       "      <td>0.609106</td>\n",
       "      <td>0.539952</td>\n",
       "      <td>0.503248</td>\n",
       "      <td>0.420346</td>\n",
       "      <td>0.394931</td>\n",
       "      <td>...</td>\n",
       "      <td>0.599725</td>\n",
       "      <td>0.524200</td>\n",
       "      <td>0.511551</td>\n",
       "      <td>0.463055</td>\n",
       "      <td>0.455172</td>\n",
       "      <td>0.454117</td>\n",
       "      <td>0.454139</td>\n",
       "      <td>1.198917</td>\n",
       "      <td>1.259247</td>\n",
       "      <td>0.166163</td>\n",
       "    </tr>\n",
       "    <tr>\n",
       "      <th>QEYVUO</th>\n",
       "      <td>0.266985</td>\n",
       "      <td>0.631662</td>\n",
       "      <td>0.599715</td>\n",
       "      <td>0.679722</td>\n",
       "      <td>0.640922</td>\n",
       "      <td>0.548947</td>\n",
       "      <td>0.471425</td>\n",
       "      <td>0.440777</td>\n",
       "      <td>0.356229</td>\n",
       "      <td>0.330814</td>\n",
       "      <td>...</td>\n",
       "      <td>0.567782</td>\n",
       "      <td>0.529291</td>\n",
       "      <td>0.521950</td>\n",
       "      <td>0.491361</td>\n",
       "      <td>0.483478</td>\n",
       "      <td>0.482424</td>\n",
       "      <td>0.482445</td>\n",
       "      <td>1.215491</td>\n",
       "      <td>1.272087</td>\n",
       "      <td>0.234715</td>\n",
       "    </tr>\n",
       "  </tbody>\n",
       "</table>\n",
       "<p>2658 rows × 3064 columns</p>\n",
       "</div>"
      ],
      "text/plain": [
       "            ABIREM    ABUMIT  ABUMIT01    ABUMOZ  ABUMOZ01  ABUMOZ02  \\\n",
       "ACANIL    0.147719  0.740934  0.714968  0.794301  0.766036  0.678040   \n",
       "ACANIL01  0.109256  0.823257  0.798499  0.883535  0.850319  0.766803   \n",
       "ACANIL02  0.159793  0.852137  0.826805  0.901732  0.869897  0.789759   \n",
       "ACANIL03  0.127033  0.743361  0.718100  0.804902  0.773959  0.691923   \n",
       "ACANIL04  0.137717  0.757324  0.729058  0.793515  0.762769  0.678887   \n",
       "...            ...       ...       ...       ...       ...       ...   \n",
       "MOVBOP02  0.141334  0.734413  0.707115  0.781170  0.752905  0.664909   \n",
       "XATMOV    0.295053  1.060905  1.037765  1.119136  1.088144  0.993355   \n",
       "XATMOV01  0.290810  1.056231  1.034406  1.114413  1.081067  0.986278   \n",
       "CMPHAA01  0.207295  0.678903  0.641646  0.725469  0.691470  0.609106   \n",
       "QEYVUO    0.266985  0.631662  0.599715  0.679722  0.640922  0.548947   \n",
       "\n",
       "          ABUMOZ03  ABUMOZ04  ABUMOZ05  ABUMOZ06  ...  ZAMRIS01  ZAMRIS02  \\\n",
       "ACANIL    0.610771  0.573940  0.489780  0.461020  ...  0.644621  0.572505   \n",
       "ACANIL01  0.699711  0.664163  0.577626  0.552211  ...  0.728399  0.663161   \n",
       "ACANIL02  0.717908  0.682431  0.597171  0.567432  ...  0.735640  0.659888   \n",
       "ACANIL03  0.621077  0.585530  0.501172  0.472413  ...  0.653233  0.583272   \n",
       "ACANIL04  0.613481  0.580300  0.497479  0.468719  ...  0.651822  0.584064   \n",
       "...            ...       ...       ...       ...  ...       ...       ...   \n",
       "MOVBOP02  0.598570  0.565389  0.482568  0.453808  ...  0.646935  0.563154   \n",
       "XATMOV    0.917164  0.881672  0.792226  0.763455  ...  0.923077  0.835107   \n",
       "XATMOV01  0.910087  0.875467  0.785149  0.756378  ...  0.916001  0.832849   \n",
       "CMPHAA01  0.539952  0.503248  0.420346  0.394931  ...  0.599725  0.524200   \n",
       "QEYVUO    0.471425  0.440777  0.356229  0.330814  ...  0.567782  0.529291   \n",
       "\n",
       "          ZAMRIS03    ZAMSEP  ZAMSEP01  ZAMSEP02  ZAMSEP03  ZOGROF01  \\\n",
       "ACANIL    0.565113  0.458489  0.461380  0.455188  0.454861  1.303028   \n",
       "ACANIL01  0.655770  0.517233  0.513891  0.508295  0.508317  1.387830   \n",
       "ACANIL02  0.652096  0.464502  0.456971  0.450780  0.450452  1.403503   \n",
       "ACANIL03  0.575880  0.480771  0.483662  0.477470  0.477142  1.309473   \n",
       "ACANIL04  0.571457  0.494588  0.486705  0.485651  0.485672  1.330795   \n",
       "...            ...       ...       ...       ...       ...       ...   \n",
       "MOVBOP02  0.553196  0.498515  0.490632  0.489578  0.489600  1.277088   \n",
       "XATMOV    0.819423  0.626609  0.602785  0.601731  0.601752  1.656759   \n",
       "XATMOV01  0.817585  0.624694  0.588224  0.563951  0.560656  1.650182   \n",
       "CMPHAA01  0.511551  0.463055  0.455172  0.454117  0.454139  1.198917   \n",
       "QEYVUO    0.521950  0.491361  0.483478  0.482424  0.482445  1.215491   \n",
       "\n",
       "          ZOGROF02  ZOYLII15  \n",
       "ACANIL    1.365292  0.094109  \n",
       "ACANIL01  1.450095  0.086162  \n",
       "ACANIL02  1.469004  0.093638  \n",
       "ACANIL03  1.371738  0.083014  \n",
       "ACANIL04  1.393059  0.080850  \n",
       "...            ...       ...  \n",
       "MOVBOP02  1.340662  0.106110  \n",
       "XATMOV    1.716844  0.342289  \n",
       "XATMOV01  1.709767  0.335212  \n",
       "CMPHAA01  1.259247  0.166163  \n",
       "QEYVUO    1.272087  0.234715  \n",
       "\n",
       "[2658 rows x 3064 columns]"
      ]
     },
     "execution_count": 6,
     "metadata": {},
     "output_type": "execute_result"
    }
   ],
   "source": [
    "submat = pd.read_csv('./data_c/mst_dists_submatrix.csv', index_col=0)\n",
    "submat"
   ]
  },
  {
   "cell_type": "code",
   "execution_count": 112,
   "id": "550bd219",
   "metadata": {
    "pycharm": {
     "name": "#%%\n"
    }
   },
   "outputs": [],
   "source": [
    "def get_euler_dist(v1, v2):\n",
    "    return np.sqrt(np.sum(np.square(v1 - v2)))\n",
    "\n",
    "\n",
    "def get_cos_similar(v1, v2):\n",
    "    num = float(np.dot(v1, v2))  # 向量点乘\n",
    "    denom = np.linalg.norm(v1) * np.linalg.norm(v2)  # 求模长的乘积\n",
    "    return (num / denom) if denom != 0 else 0"
   ]
  },
  {
   "cell_type": "code",
   "execution_count": 2,
   "id": "9c15e703",
   "metadata": {
    "pycharm": {
     "name": "#%%\n"
    }
   },
   "outputs": [
    {
     "data": {
      "text/plain": "1415"
     },
     "execution_count": 2,
     "metadata": {},
     "output_type": "execute_result"
    }
   ],
   "source": [
    "name2csd = json.load(open('./data_c/name_to_csd.json'))\n",
    "ch_names = list(name2csd.keys())\n",
    "len(ch_names)"
   ]
  },
  {
   "cell_type": "code",
   "execution_count": 11,
   "id": "17f7d506",
   "metadata": {
    "pycharm": {
     "name": "#%%\n"
    }
   },
   "outputs": [
    {
     "name": "stderr",
     "output_type": "stream",
     "text": [
      "2023-03-20 07:37:29,175 : INFO : loading Phraser object from /home/jamshid/codes/mat2vec/mat2vec/processing/models/phraser.pkl\n",
      "2023-03-20 07:37:29,724 : INFO : loaded /home/jamshid/codes/mat2vec/mat2vec/processing/models/phraser.pkl\n",
      "2023-03-20 07:37:48,182 : INFO : loading wv recursively from ../../training/models/abstracts_titles/pubmed/for_covid19_allyears/model.wv.* with mmap=None\n",
      "2023-03-20 07:37:48,183 : INFO : loading vectors from ../../training/models/abstracts_titles/pubmed/for_covid19_allyears/model.wv.vectors.npy with mmap=None\n",
      "2023-03-20 07:37:49,247 : INFO : setting ignored attribute vectors_norm to None\n",
      "2023-03-20 07:37:49,249 : INFO : loading vocabulary recursively from ../../training/models/abstracts_titles/pubmed/for_covid19_allyears/model.vocabulary.* with mmap=None\n",
      "2023-03-20 07:37:49,250 : INFO : loading trainables recursively from ../../training/models/abstracts_titles/pubmed/for_covid19_allyears/model.trainables.* with mmap=None\n",
      "2023-03-20 07:37:49,251 : INFO : loading syn1 from ../../training/models/abstracts_titles/pubmed/for_covid19_allyears/model.trainables.syn1.npy with mmap=None\n",
      "2023-03-20 07:37:50,998 : INFO : loading syn1neg from ../../training/models/abstracts_titles/pubmed/for_covid19_allyears/model.trainables.syn1neg.npy with mmap=None\n",
      "2023-03-20 07:37:59,197 : INFO : setting ignored attribute cum_table to None\n",
      "2023-03-20 07:37:59,197 : INFO : loaded ../../training/models/abstracts_titles/pubmed/for_covid19_allyears/model\n"
     ]
    }
   ],
   "source": [
    "w2v_md = Word2Vec.load('../../training/models/abstracts_titles/pubmed/for_covid19_allyears/model')"
   ]
  },
  {
   "cell_type": "code",
   "execution_count": 28,
   "id": "a5801ffe",
   "metadata": {
    "pycharm": {
     "name": "#%%\n"
    }
   },
   "outputs": [],
   "source": [
    "ch_names_exi = []\n",
    "for nm in ch_names:\n",
    "    if submat.index.isin(name2csd[nm]).sum():\n",
    "        ch_names_exi.append(nm)\n",
    "    #else:\n",
    "    #    print(nm, name2csd[nm])"
   ]
  },
  {
   "cell_type": "code",
   "execution_count": 35,
   "id": "b47b03d0",
   "metadata": {
    "pycharm": {
     "name": "#%%\n"
    }
   },
   "outputs": [],
   "source": [
    "ch_names_exc = []\n",
    "for nm in ch_names:\n",
    "    if submat.columns.isin(name2csd[nm]).sum():\n",
    "        ch_names_exc.append(nm)\n",
    "    #else:\n",
    "    #    print(nm, name2csd[nm])"
   ]
  },
  {
   "cell_type": "code",
   "execution_count": 56,
   "id": "a11a3a3d",
   "metadata": {
    "pycharm": {
     "name": "#%%\n"
    }
   },
   "outputs": [
    {
     "data": {
      "text/plain": [
       "(1415, 1092, 1104)"
      ]
     },
     "execution_count": 56,
     "metadata": {},
     "output_type": "execute_result"
    }
   ],
   "source": [
    "len(ch_names), len(ch_names_exi), len(ch_names_exc)"
   ]
  },
  {
   "cell_type": "code",
   "execution_count": null,
   "id": "fa8e035c",
   "metadata": {
    "pycharm": {
     "name": "#%%\n"
    }
   },
   "outputs": [],
   "source": []
  },
  {
   "cell_type": "code",
   "execution_count": 147,
   "id": "8ef79c72",
   "metadata": {
    "pycharm": {
     "name": "#%%\n"
    }
   },
   "outputs": [
    {
     "name": "stderr",
     "output_type": "stream",
     "text": [
      "100%|███████████████████████████████████████████████████████| 1104/1104 [22:18<00:00,  1.21s/it]"
     ]
    },
    {
     "name": "stdout",
     "output_type": "stream",
     "text": [
      "CPU times: user 22min 18s, sys: 7.01 s, total: 22min 25s\n",
      "Wall time: 22min 18s\n"
     ]
    },
    {
     "name": "stderr",
     "output_type": "stream",
     "text": [
      "\n"
     ]
    }
   ],
   "source": [
    "% % time\n",
    "str_df = pd.DataFrame(columns=ch_names_exc, index=ch_names_exi)\n",
    "sem_df = pd.DataFrame(columns=ch_names_exc, index=ch_names_exi)\n",
    "for i in tqdm(range(len(ch_names_exc))):\n",
    "    i_df = submat.iloc[:, submat.columns.isin(name2csd[ch_names_exc[i]])]\n",
    "    wv_term = crystals[crystals.entries.str.lower() == ch_names_exc[i]].entries.values[0]\n",
    "    i_vec = w2v_md.wv[wv_term]\n",
    "    for j in range(len(ch_names_exi)):\n",
    "        ij_df = i_df[i_df.index.isin(name2csd[ch_names_exi[j]])]\n",
    "        wv_term = crystals[crystals.entries.str.lower() == ch_names_exi[j]].entries.values[0]\n",
    "        j_vec = w2v_md.wv[wv_term]\n",
    "\n",
    "        struct_tube = (np.array(ij_df).max(), np.array(ij_df).min(), np.array(ij_df).mean())\n",
    "        #print(struct_tube)\n",
    "        str_df.loc[ch_names_exi[j], ch_names_exc[i]] = struct_tube\n",
    "\n",
    "        sem_tube = (get_euler_dist(i_vec, j_vec), get_cos_similar(i_vec, j_vec))\n",
    "        #print(semi_tube)\n",
    "        sem_df.loc[ch_names_exi[j], ch_names_exc[i]] = sem_tube"
   ]
  },
  {
   "cell_type": "code",
   "execution_count": null,
   "id": "972835b4",
   "metadata": {
    "pycharm": {
     "name": "#%%\n"
    }
   },
   "outputs": [],
   "source": []
  },
  {
   "cell_type": "code",
   "execution_count": 253,
   "id": "3d55d5a0",
   "metadata": {
    "pycharm": {
     "name": "#%%\n"
    }
   },
   "outputs": [],
   "source": [
    "str_df.to_csv('./data_c/structure_simi.csv')\n",
    "sem_df.to_csv('./data_c/semantic_simi.csv')"
   ]
  },
  {
   "cell_type": "code",
   "execution_count": 298,
   "id": "d02f5ae3",
   "metadata": {
    "pycharm": {
     "name": "#%%\n"
    }
   },
   "outputs": [],
   "source": [
    "str_df_2 = pd.read_csv('./data_c/structure_simi.csv', index_col=0)\n",
    "sem_df_2 = pd.read_csv('./data_c/semantic_simi.csv', index_col=0)"
   ]
  },
  {
   "cell_type": "code",
   "execution_count": 290,
   "id": "7a1814be",
   "metadata": {
    "pycharm": {
     "name": "#%%\n"
    }
   },
   "outputs": [],
   "source": [
    "str_dict = {}\n",
    "for i, mode in enumerate(['max', 'min', 'mean']):\n",
    "    df = pd.DataFrame(columns=ch_names_exc)\n",
    "    for col in str_df_2.columns:\n",
    "        df[col] = str_df_2[col].apply(lambda x: float(x.strip('()').split(', ')[i]))\n",
    "\n",
    "    str_dict[mode] = df\n",
    "\n",
    "sem_dict = {}\n",
    "for i, mode in enumerate(['euler', 'cos']):\n",
    "    df = pd.DataFrame(columns=ch_names_exc)\n",
    "    for col in sem_df_2.columns:\n",
    "        df[col] = str_df_2[col].apply(lambda x: float(x.strip('()').split(', ')[i]))\n",
    "\n",
    "    sem_dict[mode] = df"
   ]
  },
  {
   "cell_type": "code",
   "execution_count": 150,
   "id": "4df3a00a",
   "metadata": {
    "pycharm": {
     "name": "#%%\n"
    }
   },
   "outputs": [],
   "source": [
    "cols_cnts = np.array([w2v_md.wv.vocab[crystals[crystals.entries.str.lower() == x].entries.values[0]].count\n",
    "                      for x in ch_names_exc])\n",
    "rows_cnts = np.array([w2v_md.wv.vocab[crystals[crystals.entries.str.lower() == x].entries.values[0]].count\n",
    "                      for x in ch_names_exi])"
   ]
  },
  {
   "cell_type": "code",
   "execution_count": 430,
   "id": "b007294a",
   "metadata": {
    "pycharm": {
     "name": "#%%\n"
    }
   },
   "outputs": [],
   "source": [
    "# filter those that are not wanted by making their counts = -1\n",
    "to_ignore_c = ['work'] + [x for x in ch_names_exc if len(x) < 3]\n",
    "to_ignore_i = ['work'] + [x for x in ch_names_exi if len(x) < 3]\n",
    "\n",
    "cols_cnts[np.isin(np.array(ch_names_exc), to_ignore_c)] = -1\n",
    "rows_cnts[np.isin(np.array(ch_names_exi), to_ignore_i)] = -1"
   ]
  },
  {
   "cell_type": "code",
   "execution_count": null,
   "id": "dfb5b9e8",
   "metadata": {
    "pycharm": {
     "name": "#%%\n"
    }
   },
   "outputs": [],
   "source": []
  },
  {
   "cell_type": "code",
   "execution_count": 532,
   "id": "598154f0",
   "metadata": {
    "pycharm": {
     "name": "#%%\n"
    }
   },
   "outputs": [],
   "source": [
    "def scatter_matrix(mode='min', thre=0, show_plot=True):\n",
    "    semantic = sem_dict['cos']\n",
    "    struct = str_dict[mode]\n",
    "\n",
    "    assert semantic.shape == struct.shape, \"The shape of semantic and structural arrays/DFs should be the same.\"\n",
    "\n",
    "    if not (isinstance(semantic, np.ndarray)):\n",
    "        semantic = semantic.to_numpy()\n",
    "    if not (isinstance(struct, np.ndarray)):\n",
    "        struct = struct.to_numpy()\n",
    "\n",
    "    semantic_thre = semantic[rows_cnts >= thre, :][:, cols_cnts >= thre]\n",
    "    struct_thre = struct[rows_cnts >= thre, :][:, cols_cnts >= thre]\n",
    "\n",
    "    # for any shape (n,m), take the lower-triangle if n>m \n",
    "    # and the upper-triangle if n<m\n",
    "    n, m = semantic_thre.shape\n",
    "    if n >= m:\n",
    "        inds = np.tril_indices_from(semantic_thre)\n",
    "    else:\n",
    "        inds = np.triu_indices_from(semantic_thre)\n",
    "    # exclude the diagonal indices\n",
    "    inds = (inds[0][inds[0] != inds[1]],\n",
    "            inds[1][inds[0] != inds[1]])\n",
    "\n",
    "    scatter_y = semantic_thre[inds]\n",
    "    scatter_x = struct_thre[inds]\n",
    "\n",
    "    sp = spearmanr(scatter_x, scatter_y)\n",
    "    pr = pearsonr(scatter_x, scatter_y)\n",
    "    if show_plot:\n",
    "        plt.title(\"Threshod {} with {} distances\\nCount of Samples: {}\".format(thre, mode, len(scatter_y)))\n",
    "        plt.ylabel(\"Semantic Cosine Similarity\")\n",
    "        plt.xlabel(\"Structural Distance\")\n",
    "        plt.scatter(scatter_x, scatter_y)\n",
    "        print(sp)\n",
    "        print(pr)\n",
    "    else:\n",
    "        return sp, pr, n, m"
   ]
  },
  {
   "cell_type": "code",
   "execution_count": 436,
   "id": "2c7259e6",
   "metadata": {
    "pycharm": {
     "name": "#%%\n"
    }
   },
   "outputs": [
    {
     "name": "stdout",
     "output_type": "stream",
     "text": [
      "SpearmanrResult(correlation=-0.06850163012118612, pvalue=0.0)\n",
      "(-0.053959688981534915, 0.0)\n"
     ]
    },
    {
     "data": {
      "image/png": "[encoded data removed]",
      "text/plain": [
       "<Figure size 432x288 with 1 Axes>"
      ]
     },
     "metadata": {
      "needs_background": "light"
     },
     "output_type": "display_data"
    }
   ],
   "source": [
    "scatter_matrix()"
   ]
  },
  {
   "cell_type": "code",
   "execution_count": 437,
   "id": "97633ced",
   "metadata": {
    "pycharm": {
     "name": "#%%\n"
    }
   },
   "outputs": [
    {
     "name": "stdout",
     "output_type": "stream",
     "text": [
      "SpearmanrResult(correlation=0.011315129334198638, pvalue=1.1592563169782264e-17)\n",
      "(0.0049040350276600446, 0.00020847799306688972)\n"
     ]
    },
    {
     "data": {
      "image/png": "[encoded data removed]",
      "text/plain": [
       "<Figure size 432x288 with 1 Axes>"
      ]
     },
     "metadata": {
      "needs_background": "light"
     },
     "output_type": "display_data"
    }
   ],
   "source": [
    "scatter_matrix(mode='max')"
   ]
  },
  {
   "cell_type": "code",
   "execution_count": 385,
   "id": "35fa67ea",
   "metadata": {
    "pycharm": {
     "name": "#%%\n"
    }
   },
   "outputs": [
    {
     "name": "stdout",
     "output_type": "stream",
     "text": [
      "SpearmanrResult(correlation=-0.020167757524386497, pvalue=8.373789100806545e-56)\n",
      "(-0.030770612671225155, 1.966564006818465e-127)\n"
     ]
    },
    {
     "data": {
      "image/png": "[encoded data removed]",
      "text/plain": [
       "<Figure size 432x288 with 1 Axes>"
      ]
     },
     "metadata": {
      "needs_background": "light"
     },
     "output_type": "display_data"
    }
   ],
   "source": [
    "scatter_matrix(mode='mean')"
   ]
  },
  {
   "cell_type": "code",
   "execution_count": 386,
   "id": "012abd21",
   "metadata": {
    "pycharm": {
     "name": "#%%\n"
    }
   },
   "outputs": [
    {
     "name": "stdout",
     "output_type": "stream",
     "text": [
      "SpearmanrResult(correlation=-0.055795121543122106, pvalue=1.598487473947206e-216)\n",
      "(-0.04135817649098316, 8.390487121679438e-120)\n"
     ]
    },
    {
     "data": {
      "image/png": "[encoded data removed]",
      "text/plain": [
       "<Figure size 432x288 with 1 Axes>"
      ]
     },
     "metadata": {
      "needs_background": "light"
     },
     "output_type": "display_data"
    }
   ],
   "source": [
    "scatter_matrix(mode='min', thre=10)"
   ]
  },
  {
   "cell_type": "code",
   "execution_count": 388,
   "id": "2d4f33c1",
   "metadata": {
    "pycharm": {
     "name": "#%%\n"
    }
   },
   "outputs": [
    {
     "name": "stdout",
     "output_type": "stream",
     "text": [
      "SpearmanrResult(correlation=0.04877843866831608, pvalue=6.449543065917726e-166)\n",
      "(0.03807236420612777, 8.280689844518858e-102)\n"
     ]
    },
    {
     "data": {
      "image/png": "[encoded data removed]",
      "text/plain": [
       "<Figure size 432x288 with 1 Axes>"
      ]
     },
     "metadata": {
      "needs_background": "light"
     },
     "output_type": "display_data"
    }
   ],
   "source": [
    "scatter_matrix(mode='max', thre=10)"
   ]
  },
  {
   "cell_type": "code",
   "execution_count": 389,
   "id": "d509e8e8",
   "metadata": {
    "pycharm": {
     "name": "#%%\n"
    }
   },
   "outputs": [
    {
     "name": "stdout",
     "output_type": "stream",
     "text": [
      "SpearmanrResult(correlation=0.005330343316636817, pvalue=0.0027160188091610994)\n",
      "(-0.011482468228049308, 1.0557372727768288e-10)\n"
     ]
    },
    {
     "data": {
      "image/png": "[encoded data removed]",
      "text/plain": [
       "<Figure size 432x288 with 1 Axes>"
      ]
     },
     "metadata": {
      "needs_background": "light"
     },
     "output_type": "display_data"
    }
   ],
   "source": [
    "scatter_matrix(mode='mean', thre=10)"
   ]
  },
  {
   "cell_type": "code",
   "execution_count": 533,
   "id": "de833630",
   "metadata": {
    "pycharm": {
     "name": "#%%\n"
    }
   },
   "outputs": [],
   "source": [
    "thresholds = np.arange(0, 10000, 10)\n",
    "sp_coefs = np.zeros(len(thresholds))\n",
    "sp_pvals = np.zeros(len(thresholds))\n",
    "pr_coefs = np.zeros(len(thresholds))\n",
    "pr_pvals = np.zeros(len(thresholds))\n",
    "nrows = np.zeros(len(thresholds))\n",
    "ncols = np.zeros(len(thresholds))\n",
    "for i, thr in enumerate(thresholds):\n",
    "    res = scatter_matrix(mode='min', thre=thr, show_plot=False)\n",
    "    sp_coefs[i] = res[0][0]\n",
    "    sp_pvals[i] = np.log(res[0][1]) if res[0][1] > 0 else np.nan\n",
    "    pr_coefs[i] = res[1][0]\n",
    "    pr_pvals[i] = np.log(res[1][1]) if res[1][1] > 0 else np.nan\n",
    "    nrows[i] = res[2]\n",
    "    ncols[i] = res[3]"
   ]
  },
  {
   "cell_type": "code",
   "execution_count": 546,
   "id": "d78da909",
   "metadata": {
    "pycharm": {
     "name": "#%%\n"
    }
   },
   "outputs": [
    {
     "data": {
      "image/png": "[encoded data removed]",
      "text/plain": [
       "<Figure size 864x288 with 3 Axes>"
      ]
     },
     "metadata": {
      "needs_background": "light"
     },
     "output_type": "display_data"
    }
   ],
   "source": [
    "fig, axes = plt.subplots(1, 3, figsize=(12, 4))\n",
    "axes[0].plot(thresholds, pr_coefs, lw=2, label='Pearson')\n",
    "axes[0].plot(thresholds, sp_coefs, lw=2, label='Spearman')\n",
    "axes[0].set_xlim([0, 10000])\n",
    "axes[0].set_ylabel('Correlation Coefficients', fontsize=15)\n",
    "axes[0].set_xlabel('Threshold on Mentions', fontsize=15)\n",
    "axes[0].legend(fontsize=15, loc=1)\n",
    "\n",
    "axes[1].plot(thresholds, pr_pvals, lw=2, label='Pearson')\n",
    "axes[1].plot(thresholds, sp_pvals, lw=2, label='Spearman')\n",
    "axes[1].axhline(y=np.log(0.01), color='r', ls='--', label='log(0.01)')\n",
    "axes[1].set_xlim([-300, 10000])\n",
    "axes[1].set_ylabel('Log(p-value)', fontsize=15)\n",
    "axes[1].set_xlabel('Threshold on Mentions', fontsize=15)\n",
    "axes[1].legend(fontsize=15, loc=4)\n",
    "\n",
    "axes[2].plot(thresholds, ncols, lw=2, color='indianred', label='No. Columns')\n",
    "axes[2].set_xlim([-300, 10000])\n",
    "axes[2].set_ylabel('Number of Crystals', fontsize=15, labelpad=-5)\n",
    "axes[2].set_xlabel('Threshold on Mentions', fontsize=15)\n",
    "\n",
    "plt.subplots_adjust(right=1.3)"
   ]
  },
  {
   "cell_type": "code",
   "execution_count": null,
   "id": "6ec06312",
   "metadata": {
    "pycharm": {
     "name": "#%%\n"
    }
   },
   "outputs": [],
   "source": []
  },
  {
   "cell_type": "code",
   "execution_count": null,
   "id": "9a0ab7ce",
   "metadata": {
    "pycharm": {
     "name": "#%%\n"
    }
   },
   "outputs": [],
   "source": []
  }
 ],
 "metadata": {
  "kernelspec": {
   "display_name": "Python 3 (ipykernel)",
   "language": "python",
   "name": "python3"
  },
  "language_info": {
   "codemirror_mode": {
    "name": "ipython",
    "version": 3
   },
   "file_extension": ".py",
   "mimetype": "text/x-python",
   "name": "python",
   "nbconvert_exporter": "python",
   "pygments_lexer": "ipython3",
   "version": "3.7.4"
  }
 },
 "nbformat": 4,
 "nbformat_minor": 5
}