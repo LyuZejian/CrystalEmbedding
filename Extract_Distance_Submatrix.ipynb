{
 "cells": [
  {
   "cell_type": "code",
   "execution_count": 1,
   "id": "ef59d848",
   "metadata": {
    "pycharm": {
     "name": "#%%\n"
    }
   },
   "outputs": [],
   "source": [
    "import json\n",
    "import numpy as np\n",
    "import pandas as pd\n",
    "from tqdm import tqdm"
   ]
  },
  {
   "cell_type": "code",
   "execution_count": 2,
   "id": "6a3cb6ea",
   "metadata": {
    "pycharm": {
     "name": "#%%\n"
    }
   },
   "outputs": [],
   "source": [
    "crystals = pd.read_csv('./data_c/entry_mention.csv')"
   ]
  },
  {
   "cell_type": "markdown",
   "id": "99b58075",
   "metadata": {
    "pycharm": {
     "name": "#%% md\n"
    }
   },
   "source": [
    "## Name Ambiguity"
   ]
  },
  {
   "cell_type": "code",
   "execution_count": 49,
   "outputs": [
    {
     "data": {
      "text/plain": "                          entries  \\\n0                     acetanilide   \n1              2,6-Dimethylphenol   \n2                          UPC-33   \n3     1-Chloro-2,4-dinitrobenzene   \n4                    tetrahydrate   \n...                           ...   \n1441               benzo[e]pyrene   \n1442               3-aminoflavone   \n1443                    azetidine   \n1444                         MCPA   \n1445          4-aminobenzonitrile   \n\n                                               mentions  csd_id  \n0                                                [2941]  ACANIL  \n1                                              [157226]  DMEPOL  \n2                                              [508171]  METPAF  \n3                   [55124, 55125, 55126, 55127, 55128]  BENCLN  \n4                                      [579884, 741350]  OBORUU  \n...                                                 ...     ...  \n1441                                            [99355]  CEQGEL  \n1442                                           [525087]  MOVBOP  \n1443                                           [946358]  XATMOV  \n1444                                           [112522]  CMPHAA  \n1445  [56689, 56690, 56691, 56692, 56693, 56694, 566...  QEYVUO  \n\n[1446 rows x 3 columns]",
      "text/html": "<div>\n<style scoped>\n    .dataframe tbody tr th:only-of-type {\n        vertical-align: middle;\n    }\n\n    .dataframe tbody tr th {\n        vertical-align: top;\n    }\n\n    .dataframe thead th {\n        text-align: right;\n    }\n</style>\n<table border=\"1\" class=\"dataframe\">\n  <thead>\n    <tr style=\"text-align: right;\">\n      <th></th>\n      <th>entries</th>\n      <th>mentions</th>\n      <th>csd_id</th>\n    </tr>\n  </thead>\n  <tbody>\n    <tr>\n      <th>0</th>\n      <td>acetanilide</td>\n      <td>[2941]</td>\n      <td>ACANIL</td>\n    </tr>\n    <tr>\n      <th>1</th>\n      <td>2,6-Dimethylphenol</td>\n      <td>[157226]</td>\n      <td>DMEPOL</td>\n    </tr>\n    <tr>\n      <th>2</th>\n      <td>UPC-33</td>\n      <td>[508171]</td>\n      <td>METPAF</td>\n    </tr>\n    <tr>\n      <th>3</th>\n      <td>1-Chloro-2,4-dinitrobenzene</td>\n      <td>[55124, 55125, 55126, 55127, 55128]</td>\n      <td>BENCLN</td>\n    </tr>\n    <tr>\n      <th>4</th>\n      <td>tetrahydrate</td>\n      <td>[579884, 741350]</td>\n      <td>OBORUU</td>\n    </tr>\n    <tr>\n      <th>...</th>\n      <td>...</td>\n      <td>...</td>\n      <td>...</td>\n    </tr>\n    <tr>\n      <th>1441</th>\n      <td>benzo[e]pyrene</td>\n      <td>[99355]</td>\n      <td>CEQGEL</td>\n    </tr>\n    <tr>\n      <th>1442</th>\n      <td>3-aminoflavone</td>\n      <td>[525087]</td>\n      <td>MOVBOP</td>\n    </tr>\n    <tr>\n      <th>1443</th>\n      <td>azetidine</td>\n      <td>[946358]</td>\n      <td>XATMOV</td>\n    </tr>\n    <tr>\n      <th>1444</th>\n      <td>MCPA</td>\n      <td>[112522]</td>\n      <td>CMPHAA</td>\n    </tr>\n    <tr>\n      <th>1445</th>\n      <td>4-aminobenzonitrile</td>\n      <td>[56689, 56690, 56691, 56692, 56693, 56694, 566...</td>\n      <td>QEYVUO</td>\n    </tr>\n  </tbody>\n</table>\n<p>1446 rows × 3 columns</p>\n</div>"
     },
     "execution_count": 49,
     "metadata": {},
     "output_type": "execute_result"
    }
   ],
   "source": [
    "crystals"
   ],
   "metadata": {
    "collapsed": false,
    "pycharm": {
     "name": "#%%\n"
    }
   }
  },
  {
   "cell_type": "code",
   "execution_count": 50,
   "id": "d464d329",
   "metadata": {
    "pycharm": {
     "name": "#%%\n"
    }
   },
   "outputs": [],
   "source": [
    "target_csd = crystals.csd_id.values\n",
    "\n",
    "# we have repetitive CSD IDs:\n",
    "ucsd, csd_cnts = np.unique(target_csd, return_counts=True)"
   ]
  },
  {
   "cell_type": "code",
   "execution_count": 54,
   "id": "30b479f2",
   "metadata": {
    "pycharm": {
     "name": "#%%\n"
    }
   },
   "outputs": [
    {
     "data": {
      "text/plain": "['ABEDUJ',\n 'ABIREM',\n 'ABUMIT',\n 'ABUMOZ',\n 'ACAFLR',\n 'ACANIL',\n 'ACEMID',\n 'ACITOY',\n 'ACNAQU',\n 'ACRDIN',\n 'ACTOLD',\n 'ADRENL',\n 'ADUWIH',\n 'AFASEI',\n 'AFASUY',\n 'AFOVUP',\n 'AFUHIT',\n 'AFUYIJ',\n 'AHEMAB',\n 'AHIMAF',\n 'AKUVUA',\n 'ALOXAN',\n 'AMBZAM',\n 'AMIPYR',\n 'AMITEW',\n 'AMNNPQ',\n 'AMNPHA',\n 'AMPHOL',\n 'AMPHOM',\n 'AMPYRD',\n 'AMPYRE',\n 'AMPYRM',\n 'ANDSEO',\n 'ANEDEF',\n 'ANEDIJ',\n 'ANTCEN',\n 'ANTHAL',\n 'ANTPYR',\n 'ANTQUO',\n 'APAZEY',\n 'APOQOO',\n 'AQAXUM',\n 'ARABOL',\n 'ARCLAM',\n 'AREBUX',\n 'ASAZIG',\n 'AVEHOA',\n 'AVENAT',\n 'AWIZOW',\n 'AWULIO',\n 'AXOSIQ',\n 'AZARIF',\n 'AZAROL',\n 'AZLENE',\n 'AZOBEN',\n 'AZOXOF',\n 'AZURAC',\n 'AZURID',\n 'BAGFIY',\n 'BAJBIA',\n 'BAJCIY',\n 'BAKPAE',\n 'BANJEH',\n 'BANYEV',\n 'BARLEO',\n 'BARMAL',\n 'BARMEP',\n 'BASCIH',\n 'BASKUE',\n 'BAWHEM',\n 'BDTOLE',\n 'BEDMIG',\n 'BEFNIL',\n 'BEFNOR',\n 'BEFNUX',\n 'BEJYIY',\n 'BEKFEF',\n 'BENCLN',\n 'BENZIL',\n 'BEOXAZ',\n 'BEVHIT',\n 'BEYFAM',\n 'BEZHUL',\n 'BIDJIH',\n 'BIDVOA',\n 'BIFERO',\n 'BIHJIO',\n 'BIMKUD',\n 'BINAPH',\n 'BINMEQ',\n 'BIOTIN',\n 'BIPHEN',\n 'BIPYRL',\n 'BIRCOX',\n 'BIRKIW',\n 'BIRYIK',\n 'BISKET',\n 'BIVLUQ',\n 'BIYQUY',\n 'BIYSEH',\n 'BIZHIB',\n 'BNPERY',\n 'BNPHTA',\n 'BNPYRE',\n 'BNZQUI',\n 'BODNOZ',\n 'BOGXAZ',\n 'BOGXIF',\n 'BOJGUC',\n 'BOMKOD',\n 'BOPSAA',\n 'BOQDES',\n 'BOTSOT',\n 'BOWROW',\n 'BOWZOE',\n 'BOXMUZ',\n 'BPHENO',\n 'BRADOS',\n 'BRBNIT',\n 'BROXUR',\n 'BRURAC',\n 'BRURID',\n 'BUVXEX',\n 'BZAMID',\n 'BZDMAZ',\n 'BZOXZO',\n 'BZQDCL',\n 'CABBIQ',\n 'CABKIC',\n 'CACGOF',\n 'CACHAP',\n 'CAKYUI',\n 'CALBAV',\n 'CANAPQ',\n 'CAPLAC',\n 'CASHOT',\n 'CATXED',\n 'CAVLIW',\n 'CBMZPN',\n 'CEDFEW',\n 'CEFPEK',\n 'CEGLIJ',\n 'CEGYOC',\n 'CEHCOH',\n 'CEJDUT',\n 'CEKGUU',\n 'CEKPIR',\n 'CEKRAL',\n 'CEKROZ',\n 'CELBAW',\n 'CELTUI',\n 'CEQGEL',\n 'CERGEL',\n 'CEWGOB',\n 'CEWSAY',\n 'CEWVIJ',\n 'CEZBIS',\n 'CHOENO',\n 'CIFROY',\n 'CIMETD',\n 'CINCHO',\n 'CIPWII',\n 'CIQUOL',\n 'CISTON',\n 'CIVZAL',\n 'CLANIC',\n 'CLBZAM',\n 'CLBZNT',\n 'CLNOBE',\n 'CLONAN',\n 'CLPHOL',\n 'CLURAC',\n 'CMPHAA',\n 'CNITBZ',\n 'COBBIE',\n 'COCTCD',\n 'COFORM',\n 'COGNAO',\n 'COQQAA',\n 'CORDOE',\n 'CORONE',\n 'COTZAN',\n 'COUMAR',\n 'COWHUR',\n 'COYRUD',\n 'CPHMUR',\n 'CPTCET',\n 'CRBZOL',\n 'CRYSEN',\n 'CSUCIM',\n 'CTMTNA',\n 'CUBANE',\n 'CUKCIU',\n 'CUTCAW',\n 'CUWCUV',\n 'CUYZON',\n 'CYAMPD',\n 'CYCPRU',\n 'CYNURZ',\n 'CYTSIN',\n 'DADMBP',\n 'DANTEN',\n 'DASXEA',\n 'DAXGEP',\n 'DAZNAP',\n 'DBEZLM',\n 'DBRBIP',\n 'DBRNAQ',\n 'DBZTHP',\n 'DCLBEN',\n 'DCLETH',\n 'DCLNAP',\n 'DCLPEY',\n 'DCLPOL',\n 'DCYANM',\n 'DCYPCO',\n 'DEDNOS',\n 'DESJET',\n 'DETFUC',\n 'DETGUH',\n 'DEXBEN',\n 'DEYFOD',\n 'DHXANT',\n 'DHXBZP',\n 'DIGGAE',\n 'DIHBEE',\n 'DIQBIR',\n 'DISLID',\n 'DITHAN',\n 'DIWMOM',\n 'DIWXIR',\n 'DLMAND',\n 'DLMETA',\n 'DLNLUA',\n 'DLSERN',\n 'DMANTL',\n 'DMANTR',\n 'DMEPOL',\n 'DMFERR',\n 'DMPHOL',\n 'DMTRYP',\n 'DNBENZ',\n 'DNITBZ',\n 'DNOPHL',\n 'DOBMUD',\n 'DOFSUM',\n 'DOGQIA',\n 'DOHSEA',\n 'DOJHAO',\n 'DOKXIL',\n 'DOLBIR',\n 'DOLDIT',\n 'DOTSOV',\n 'DOURID',\n 'DOXXAP',\n 'DPANTR',\n 'DPPETH',\n 'DPUREA',\n 'DUCKOB',\n 'DUFCUE',\n 'DUGGIY',\n 'DUKBAO',\n 'DUKXAJ',\n 'DUMFAS',\n 'DUTZOH',\n 'DUXJOY',\n 'DUXRAP',\n 'DUZMUJ',\n 'DXCYTD',\n 'DXYLEN',\n 'EBONAK',\n 'ECANUT',\n 'ECEKED',\n 'ECMPBX',\n 'ECUKUJ',\n 'EDATIP',\n 'EDAXUC',\n 'EDEZES',\n 'EFAWUD',\n 'EFIGOQ',\n 'EFONIY',\n 'EFUMAU',\n 'EFUMEY',\n 'EGOSOK',\n 'EHIZIG',\n 'EHODUC',\n 'EHOFAK',\n 'EHOFEO',\n 'EHOWIH',\n 'EHUKIC',\n 'EJAYET',\n 'ELUCIZ',\n 'EMAVOG',\n 'EMONAY',\n 'EMONID',\n 'ENOCUG',\n 'EPEXOP',\n 'EPURIT',\n 'EQUXAP',\n 'ERAMES',\n 'ERAPUK',\n 'ERAZUV',\n 'EREBOV',\n 'ESAFIQ',\n 'ESALUF',\n 'ESOYUI',\n 'ETAHAK',\n 'ETDIAM',\n 'ETHANE',\n 'ETTHUR',\n 'ETYXUR',\n 'EVALIZ',\n 'EVOQEL',\n 'EVUJEM',\n 'EWEMIF',\n 'EWOJOS',\n 'EWUVEY',\n 'EXEXEL',\n 'EYENED',\n 'EYIZER',\n 'EYOGEE',\n 'EYOJOU',\n 'EZONOY',\n 'FADRAF',\n 'FAJVAR',\n 'FALTUJ',\n 'FAMFEH',\n 'FATMAR',\n 'FAVKAP',\n 'FAVYEK',\n 'FAXVAB',\n 'FAYPAY',\n 'FECZOE',\n 'FEFLIM',\n 'FEFMEJ',\n 'FEHQAL',\n 'FEMPAP',\n 'FEMYOO',\n 'FESNEW',\n 'FEWNUT',\n 'FIBQIT',\n 'FIDTEU',\n 'FIFMAI',\n 'FIGSIA',\n 'FIKPUN',\n 'FINWEE',\n 'FITZEO',\n 'FIXGAU',\n 'FLUANT',\n 'FLURON',\n 'FMDURD',\n 'FONHIB',\n 'FORHUQ',\n 'FOYLEK',\n 'FUFPUT',\n 'FUGKAW',\n 'FUGKIB',\n 'FUGLOI',\n 'FUGMEZ',\n 'FUHDAN',\n 'FULPIM',\n 'FUNZOG',\n 'FUQJEG',\n 'FURLEL',\n 'FURSOD',\n 'FUTWOI',\n 'FUVFAG',\n 'FUZPAR',\n 'GABYER',\n 'GADTAK',\n 'GAGMOU',\n 'GAHHIG',\n 'GAHHOM',\n 'GAJKUB',\n 'GAKVET',\n 'GALJUC',\n 'GAPTOG',\n 'GATHOY',\n 'GAVWEI',\n 'GAWNAW',\n 'GEBVAK',\n 'GEJBOP',\n 'GEJQOE',\n 'GEMRAT',\n 'GENIST',\n 'GERGAL',\n 'GETFAP',\n 'GEYLAA',\n 'GEYLEE',\n 'GEZRAG',\n 'GIHKOX',\n 'GITTOT',\n 'GIVHEA',\n 'GLUCIT',\n 'GLUTAS',\n 'GLYGLY',\n 'GOKJUM',\n 'GOQNAE',\n 'GORBOE',\n 'GRISFL',\n 'GUBXAE',\n 'GUDHET',\n 'GUKKON',\n 'GUNVOC',\n 'GUQPOZ',\n 'GUSNEN',\n 'GUTVOJ',\n 'GUXQEV',\n 'HACTPH',\n 'HACXAN',\n 'HAGZOH',\n 'HAMBOP',\n 'HAMXIG',\n 'HANFIM',\n 'HANRAT',\n 'HARCEL',\n 'HAVBIQ',\n 'HAWHOG',\n 'HCCYHG',\n 'HCLBNZ',\n 'HEJQEV',\n 'HEPTAN',\n 'HEQXOR',\n 'HEVZAL',\n 'HEWRAD',\n 'HEXANE',\n 'HEXCET',\n 'HEXDEC',\n 'HEXHEL',\n 'HEXMDA',\n 'HEZQIN',\n 'HFBENZ',\n 'HICXIA',\n 'HIQJOJ',\n 'HIQWEJ',\n 'HIVQAE',\n 'HMBENZ',\n 'HMDOUR',\n 'HOBVIE',\n 'HOCDOV',\n 'HOFPUO',\n 'HOGLEV',\n 'HOHHIW',\n 'HOHHOC',\n 'HOPROL',\n 'HOQHUQ',\n 'HOYPUI',\n 'HOYXOL',\n 'HOZJEN',\n 'HOZTAS',\n 'HPTHEL',\n 'HUDCOY',\n 'HUMWET',\n 'HUNNOU',\n 'HUPNIR',\n 'HUTGIP',\n 'HUVHAJ',\n 'HUZGOB',\n 'HUZXAD',\n 'HXMCOU',\n 'HXQUIN',\n 'HXQUIO',\n 'HYQUIN',\n 'IBIYAW',\n 'IBPRAC',\n 'ICIQEU',\n 'IDAHOL',\n 'IDAHUR',\n 'IDINOY',\n 'IDIQUI',\n 'IDOXUR',\n 'IDUSUV',\n 'IDUZIR',\n 'IFAJIJ',\n 'IFIXOM',\n 'IFOSAY',\n 'IGOCUD',\n 'IGOGOD',\n 'IHEBAA',\n 'IHEMAJ',\n 'IHEMIR',\n 'IHERES',\n 'IHIKIV',\n 'IHILOD',\n 'IHOVEI',\n 'IKASUK',\n 'IKEGAI',\n 'IKEMIV',\n 'IMSOPB',\n 'INDOLE',\n 'INEJOA',\n 'INELUK',\n 'INOSIN',\n 'IPELOF',\n 'IPIVOT',\n 'IPMEPL',\n 'IQUGUY',\n 'IQUTOE',\n 'IRUXUO',\n 'IRUYIE',\n 'ISAXUV',\n 'ISINIJ',\n 'ISINOP',\n 'ITAMAR',\n 'ITIZOA',\n 'ITOBAU',\n 'IURACL',\n 'IVABIS',\n 'IVAVEI',\n 'IVEHUN',\n 'IVEJUO',\n 'IVURAS',\n 'IWOZOL',\n 'IXUJEQ',\n 'IXUJIU',\n 'IZANOM',\n 'IZOQAS',\n 'IZUCAK',\n 'JADCAV',\n 'JADCEZ',\n 'JADNUA',\n 'JAKFIK',\n 'JAKPER',\n 'JALZOP',\n 'JATFUF',\n 'JAWBIT',\n 'JAXHUM',\n 'JAYDUI',\n 'JAZDOD',\n 'JEBHII',\n 'JECCAZ',\n 'JEHBEG',\n 'JEHBIK',\n 'JEHBOQ',\n 'JEHBUW',\n 'JEJSIA',\n 'JELRAW',\n 'JEMPEZ',\n 'JEMPID',\n 'JEMRUP',\n 'JEMWIK',\n 'JESPAY',\n 'JIBNEQ',\n 'JIDNUF',\n 'JIKREA',\n 'JITXES',\n 'JITXIW',\n 'JITXOC',\n 'JIZHOP',\n 'JOBHIS',\n 'JOCRAU',\n 'JOGYOW',\n 'JOJJUQ',\n 'JOLMOM',\n 'JOLTIQ',\n 'JOPKEE',\n 'JOSLOU',\n 'JUJPAH',\n 'JUJPEL',\n 'JULWAR',\n 'KAFRIV',\n 'KAFWAR',\n 'KAGWOI',\n 'KAGWUO',\n 'KAMCEG',\n 'KAMRIC',\n 'KAMTAW',\n 'KAQPUN',\n 'KASHIR',\n 'KASVUW',\n 'KATXAG',\n 'KATYOT',\n 'KAWHAV',\n 'KAYJIE',\n 'KAYSUY',\n 'KCROFE',\n 'KCYPAM',\n 'KEDDAY',\n 'KEDFAA',\n 'KEJBAC',\n 'KELYOQ',\n 'KEPZAI',\n 'KESTOS',\n 'KEYKAD',\n 'KIDFUZ',\n 'KIDNOD',\n 'KIGZAD',\n 'KIGZEH',\n 'KIHKUI',\n 'KILBAL',\n 'KISXIU',\n 'KITVEQ',\n 'KOBFUD',\n 'KOHCUI',\n 'KOMRIO',\n 'KOQCOL',\n 'KOVCAC',\n 'KOYNOB',\n 'KOYTOH',\n 'KUBMAX',\n 'KUCNON',\n 'KUCNUT',\n 'KUCPEF',\n 'KUDXOY',\n 'KUJNAF',\n 'KUNHEI',\n 'KUSTIB',\n 'KUTBEH',\n 'KUXREC',\n 'KUYDIS',\n 'KUYPAV',\n 'LACPOU',\n 'LACSOY',\n 'LADBIB',\n 'LAJLEP',\n 'LATDUF',\n 'LAYKOM',\n 'LCYSTI',\n 'LEBCIE',\n 'LEFROF',\n 'LEFRUL',\n 'LEJRIC',\n 'LEKKAR',\n 'LEMHAM',\n 'LEMQOM',\n 'LENYIO',\n 'LEPMUP',\n 'LEPPIF',\n 'LERDAO',\n 'LETHIE',\n 'LHISTD',\n 'LICGOW',\n 'LICKOY',\n 'LIDBAB',\n 'LIHHUI',\n 'LIHJAQ',\n 'LIHJEU',\n 'LIHJIY',\n 'LIHJUK',\n 'LIHKOF',\n 'LIJYEL',\n 'LIKDOA',\n 'LIKGUJ',\n 'LIRNOS',\n 'LISLEU',\n 'LISTEP',\n 'LIXQOB',\n 'LMETON',\n 'LOBTOM',\n 'LOBWIJ',\n 'LODSAY',\n 'LODSEC',\n 'LOFZUC',\n 'LOHMEB',\n 'LOHVEM',\n 'LOJCIX',\n 'LOJKOK',\n 'LOTGUZ',\n 'LSERIN',\n 'LTYROS',\n 'LUKXOG',\n 'LUKZAV',\n 'LUPGAH',\n 'LURQUN',\n 'LUZXOV',\n 'MAAZBZ',\n 'MAGXIF',\n 'MAJRIZ',\n 'MALONT',\n 'MAMPOL',\n 'MANTHR',\n 'MAQHIY',\n 'MASBUD',\n 'MATHIY',\n 'MAYSIQ',\n 'MAYSOW',\n 'MBPHOL',\n 'MCBZIM',\n 'MCHLAN',\n 'MEADEN',\n 'MEBNOX',\n 'MEBQEQ',\n 'MECHLF',\n 'MECRAP',\n 'MEDLUE',\n 'MEHMET',\n 'MELAMI',\n 'MELKIA',\n 'MEPWUZ',\n 'METACM',\n 'METAMI',\n 'METHYM',\n 'METPAF',\n 'METURA',\n 'MEXZOG',\n 'MIBQAR',\n 'MIDREZ',\n 'MIDRID',\n 'MIGNOG',\n 'MINVOU',\n 'MINVUA',\n 'MISBEW',\n 'MNIANL',\n 'MNPHOL',\n 'MOCOUM',\n 'MOFBUF',\n 'MOHGOI',\n 'MOJCUK',\n 'MOKYER',\n 'MORJEI',\n 'MORJOS',\n 'MOTRUL',\n 'MOVBOP',\n 'MOVYIF',\n 'MOWYON',\n 'MOXHUF',\n 'MOYXAB',\n 'MTYROS',\n 'MUBZUE',\n 'MUDRAG',\n 'MUDWIT',\n 'MUKWIB',\n 'MUPFEL',\n 'MUVYAD',\n 'MYINOL',\n 'NADGOR',\n 'NADPUF',\n 'NADREN',\n 'NAHNIT',\n 'NANILI',\n 'NAPHOB',\n 'NAPHQU',\n 'NAPHTA',\n 'NAPTYR',\n 'NAQXEM',\n 'NASROP',\n 'NATYEP',\n 'NAVVAL',\n 'NAWYES',\n 'NAXDIZ',\n 'NBSUCA',\n 'NEFTUQ',\n 'NEQQEH',\n 'NEQQOR',\n 'NIBZAL',\n 'NICOAM',\n 'NIHBUC',\n 'NILJOK',\n 'NILLEZ',\n 'NIMREG',\n 'NIMRIK',\n 'NIQNOT',\n 'NIQNUZ',\n 'NISCOK',\n 'NITOLU',\n 'NITPOL',\n 'NIVLAH',\n 'NIXKIQ',\n 'NMCABZ',\n 'NODTIJ',\n 'NOGCIV',\n 'NOGNII',\n 'NOGUNA',\n 'NOKGAY',\n 'NOKGEC',\n 'NONMEI',\n 'NORDII',\n 'NOTEST',\n 'NOVCUW',\n 'NOYWEG',\n 'NOZKES',\n 'NTRANT',\n 'NUDGIC',\n 'NUDLOP',\n 'NUFDIE',\n 'NUMVOI',\n 'NUNBIK',\n 'NUPCOS',\n 'NUPPUL',\n 'NUPVAX',\n 'NUQDIO',\n 'NUVXIM',\n 'NUYJEW',\n 'OBEXIC',\n 'OBNZQU',\n 'OBORUU',\n 'OBUSOX',\n 'OCHTET',\n 'OCLNAP',\n 'OCRSOL',\n 'OCTANE',\n 'OCUZUL',\n 'ODEFOS',\n 'ODEJAJ',\n 'ODOLEA',\n 'ODUDAV',\n 'OFERUN',\n 'OFNAPH',\n 'OGEMAR',\n 'OHECEM',\n 'OHIPUR',\n 'OHIVAE',\n 'OJINIF',\n 'OJOBOF',\n 'OJOBUL',\n 'OJOYIY',\n 'OJUPEQ',\n 'OLUGUZ',\n 'OMOVET',\n 'ONITPH',\n 'OPELAX',\n 'OPENAN',\n 'OPUGAI',\n 'OQUQEX',\n 'OREVAJ',\n 'ORIVOC',\n 'ORIVUI',\n 'ORIWAP',\n 'ORIWET',\n 'OROWUQ',\n 'ORUGIT',\n 'OSAVAH',\n 'OSIYUL',\n 'OSORUL',\n 'OSUFUG',\n 'OSURUR',\n 'OTACUJ',\n 'OVANIL',\n 'OVAYOB',\n 'OVEBEZ',\n 'OWIKAI',\n 'OWUHOF',\n 'OXALIN',\n 'OXAMID',\n 'OXANIL',\n 'OYAFIF',\n 'OYAFOL',\n 'OYAFUR',\n 'OYAGAY',\n 'OYAGEC',\n 'OYALOR',\n 'PAHYON',\n 'PAJXUW',\n 'PALFEO',\n 'PAMWAF',\n 'PANHAR',\n 'PAPQAB',\n 'PARTEN',\n 'PASSOU',\n 'PATDUM',\n 'PATZIW',\n 'PAWMUX',\n 'PCLPYR',\n 'PCPHOL',\n 'PCPTZA',\n 'PEBBAD',\n 'PEBBEH',\n 'PEDHAJ',\n 'PEFTIE',\n 'PEHNUO',\n 'PEHTUS',\n 'PEKFAN',\n 'PENCEN',\n 'PENDAM',\n 'PENTAN',\n 'PERLEN',\n 'PERYTO',\n 'PEVFON',\n 'PEYVEV',\n 'PHBALD',\n 'PHEPHR',\n 'PHESAZ',\n 'PHTHCY',\n 'PICAMD',\n 'PICRAC',\n 'PIJPAZ',\n 'PIPINE',\n 'PIRNIN',\n 'PITYUN',\n 'PIWLIT',\n 'PNIANS',\n 'POBZEO',\n 'PODKEA',\n 'POFBIV',\n 'POLVOE',\n 'POPBEE',\n 'PORPIN',\n 'POSJAI',\n 'POVNEW',\n 'POVNIA',\n 'POVNOG',\n 'PRMDIN',\n 'PROGST',\n 'PTRPHE',\n 'PUNNOC',\n 'PUNVIE',\n 'PUWNEC',\n 'PVVAQS',\n 'PXBVCP',\n 'PYRDNA',\n 'PYRGAL',\n 'PYRIDO',\n 'QABDEE',\n 'QACYOM',\n 'QAFHAJ',\n 'QAFKEP',\n 'QAGVED',\n 'QAMVEG',\n 'QANRUT',\n 'QANXUA',\n 'QAQJOJ',\n 'QARLIH',\n 'QATTEK',\n 'QATTIO',\n 'QATVEM',\n 'QAXMEH',\n 'QECRAU',\n 'QESGOL',\n 'QESJAA',\n 'QETLUX',\n 'QEYVUO',\n 'QEZDAB',\n 'QIFCUD',\n 'QIFNIE',\n 'QIHPEC',\n 'QIKZAN',\n 'QIMFAW',\n 'QIMMEE',\n 'QIMMII',\n 'QIYMEQ',\n 'QOBGUL',\n 'QOBHEW',\n 'QOBHIA',\n 'QOBJEY',\n 'QOHTEO',\n 'QOMWUM',\n 'QONYEA',\n 'QOSXOM',\n 'QOTNOD',\n 'QOVWOO',\n 'QOVXEG',\n 'QOWPIE',\n 'QOWRAV',\n 'QOYJOD',\n 'QQQBNG',\n 'QQQCIG',\n 'QQQCIV',\n 'QQQCOG',\n 'QQQCSV',\n 'QQQCZS',\n 'QQQEJV',\n 'QQQFBG',\n 'QQQFBJ',\n 'QQQFBP',\n 'QUKGUB',\n 'QULGUB',\n 'QUQWEG',\n 'QURDOY',\n 'QUSXOU',\n 'QUVJIC',\n 'QUXZIU',\n 'QUZDOG',\n 'QUZLED',\n 'RABPUJ',\n 'RAFVUS',\n 'RAKLOG',\n 'RAQGAU',\n 'RAVSOX',\n 'RAYLOT',\n 'RAYPUD',\n 'RAYQAK',\n 'RAZXIA',\n 'REFKAR',\n 'REFXOR',\n 'REGVAD',\n 'REKJOH',\n 'REKYAI',\n 'RERTUG',\n 'RESORA',\n 'REWBOL',\n 'REWNEO',\n 'RIDLAS',\n 'RIDLEW',\n 'RIDLIA',\n 'RIHDIW',\n 'RIMGOL',\n 'RINFUS',\n 'RIRMAH',\n 'RIVDOQ',\n 'ROFKAZ',\n 'ROHTOZ',\n 'ROMMUC',\n 'ROPPEU',\n 'ROVCUD',\n 'ROVPAW',\n 'RUBTAK',\n 'RUGFII',\n 'RURLIB',\n 'RUVQOO',\n 'RUYSUZ',\n ...]"
     },
     "execution_count": 54,
     "metadata": {},
     "output_type": "execute_result"
    }
   ],
   "source": [
    "uc=ucsd\n",
    "uc.sort()\n",
    "list(uc)"
   ]
  },
  {
   "cell_type": "markdown",
   "id": "12947c4a",
   "metadata": {
    "pycharm": {
     "name": "#%% md\n"
    }
   },
   "source": [
    "Some of these repetitive CSDs have crystal names that are different only different up to an upper-case letter (e.g., '1,2-dichlorobenzene' and '1,2-Dichlorobenzene' for CSD = 'ABUMIT') and some have names that are more different (e.g., '2,6-Diaminopyridine' and 'pyridine-2,6-diamine' for CSD = 'FOYLEK'). We'll check how many of each of these categories exist:"
   ]
  },
  {
   "cell_type": "code",
   "execution_count": 53,
   "outputs": [
    {
     "data": {
      "text/plain": "       entries mentions  csd_id\n761  bosutinib    [518]  ABEDUJ",
      "text/html": "<div>\n<style scoped>\n    .dataframe tbody tr th:only-of-type {\n        vertical-align: middle;\n    }\n\n    .dataframe tbody tr th {\n        vertical-align: top;\n    }\n\n    .dataframe thead th {\n        text-align: right;\n    }\n</style>\n<table border=\"1\" class=\"dataframe\">\n  <thead>\n    <tr style=\"text-align: right;\">\n      <th></th>\n      <th>entries</th>\n      <th>mentions</th>\n      <th>csd_id</th>\n    </tr>\n  </thead>\n  <tbody>\n    <tr>\n      <th>761</th>\n      <td>bosutinib</td>\n      <td>[518]</td>\n      <td>ABEDUJ</td>\n    </tr>\n  </tbody>\n</table>\n</div>"
     },
     "execution_count": 53,
     "metadata": {},
     "output_type": "execute_result"
    }
   ],
   "source": [
    "crystals[crystals.csd_id == \"ABEDUJ\"]"
   ],
   "metadata": {
    "collapsed": false,
    "pycharm": {
     "name": "#%%\n"
    }
   }
  },
  {
   "cell_type": "code",
   "execution_count": 14,
   "id": "2fb8ff12",
   "metadata": {
    "pycharm": {
     "name": "#%%\n"
    }
   },
   "outputs": [
    {
     "name": "stdout",
     "output_type": "stream",
     "text": [
      "ANTQUO ['anthracene-9,10-dione', '9,10-anthraquinone', '9,10-anthraquinone']\n",
      "BINAPH [\"1,1'-binaphthalene\", \"1,1'-binaphthyl\"]\n",
      "CLANIC ['4-chloroaniline', 'p-chloroaniline']\n",
      "COTZAN ['acetaminophen', 'paracetamol']\n",
      "COUMAR ['chromen-2-one', '2h-1-benzopyran-2-one']\n",
      "COWHUR ['(-)-epicatechin', 'epicatechin']\n",
      "DANTEN ['bianthrone', 'dianthraquinone']\n",
      "DNBENZ ['m-dinitrobenzene', '1,3-dinitrobenzene']\n",
      "DPUREA ['1,3-diphenylurea', \"n,n'-diphenylurea\"]\n",
      "DUCKOB ['n-butane', 'butane']\n",
      "DXYLEN ['[2,2]-paracyclophane', '[2.2]paracyclophane']\n",
      "ETDIAM ['1,2-diaminoethane', '1,2-ethanediamine']\n",
      "FLURON ['9-fluorenone', '9h-fluoren-9-one']\n",
      "FOYLEK ['pyridine-2,6-diamine', '2,6-diaminopyridine']\n",
      "HIQWEJ [\"4,4'-bipyridine\", \"4,4'-bipyridine\", \"4,4'-bipyridyl\"]\n",
      "HXQUIN ['quinolin-8-ol', '8-hydroxyquinoline', '8-hydroxyquinoline']\n",
      "HYQUIN ['benzene-1,4-diol', 'hydroquinone']\n",
      "JEMPEZ ['v11', 'v101']\n",
      "NANILI ['4-nitroaniline', 'p-nitroaniline', '4-nitroaniline']\n",
      "NOZKES ['ethane-1,2-diol', '1,2-ethanediol']\n",
      "OCHTET ['1,3,5,7-tetranitro-1,3,5,7-tetraazacyclooctane', '1,3,5,7-tetranitro-1,3,5,7-tetrazocane']\n",
      "OCRSOL ['2-methylphenol', 'o-cresol']\n",
      "OCTANE ['octane', 'n-octane']\n",
      "PENDAM ['1,4-phenylenediamine', 'p-phenylenediamine']\n",
      "QOVXEG ['co-zif-9', 'zif-9']\n",
      "REKJOH ['1,1,1,3,3,3-hexafluoro-2-propanol', '1,1,1,3,3,3-hexafluoropropan-2-ol']\n",
      "TRIZIN ['1,3,5-triazine', 's-triazine']\n",
      "TSTILB ['trans-stilbene', '(e)-stilbene']\n",
      "ZZZITY ['p-xylene', 'para-xylene']\n",
      "ZZZJIE ['naphthalene-1,2-dione', '1,2-naphthoquinone']\n"
     ]
    }
   ],
   "source": [
    "reps = ucsd[csd_cnts > 1]\n",
    "\n",
    "csd_with_diff_names = []\n",
    "for csd in reps:\n",
    "    names = crystals[crystals.csd_id == csd].entries\n",
    "    #names = D[D['CSD ID'].str.contains(csd)]['chemical name']\n",
    "    names = [x.lower() for x in names]\n",
    "    if len(np.unique(names)) > 1:\n",
    "        print(csd, names)\n",
    "        csd_with_diff_names += [csd]"
   ]
  },
  {
   "cell_type": "code",
   "execution_count": 12,
   "id": "748e897d",
   "metadata": {
    "pycharm": {
     "name": "#%%\n"
    }
   },
   "outputs": [],
   "source": [
    "D = pd.read_csv('./data_c/crystals_wdoi.csv')"
   ]
  },
  {
   "cell_type": "code",
   "execution_count": null,
   "id": "b3bc728b",
   "metadata": {
    "pycharm": {
     "name": "#%%\n"
    }
   },
   "outputs": [],
   "source": [
    "len(csd_with_diff_names)"
   ]
  },
  {
   "cell_type": "markdown",
   "id": "48caa11b",
   "metadata": {
    "pycharm": {
     "name": "#%% md\n"
    }
   },
   "source": [
    "For those CSDs with different chemical names, we break the all the corresponding CSDs accordingly. For example, for CSD \"DUCKOB\" we have the following names:"
   ]
  },
  {
   "cell_type": "code",
   "execution_count": 15,
   "id": "dec6a04e",
   "metadata": {
    "pycharm": {
     "name": "#%%\n"
    }
   },
   "outputs": [
    {
     "data": {
      "text/plain": "909     n-Butane\n1433      butane\nName: entries, dtype: object"
     },
     "execution_count": 15,
     "metadata": {},
     "output_type": "execute_result"
    }
   ],
   "source": [
    "csd_with_diff_names\n",
    "crystals[crystals.csd_id == 'DUCKOB'].entries"
   ]
  },
  {
   "cell_type": "markdown",
   "id": "f38dfb95",
   "metadata": {
    "pycharm": {
     "name": "#%% md\n"
    }
   },
   "source": [
    "whereas the full set of CSD/names for this ID is the following set:"
   ]
  },
  {
   "cell_type": "code",
   "execution_count": 16,
   "id": "fa4a401c",
   "metadata": {
    "pycharm": {
     "name": "#%%\n"
    }
   },
   "outputs": [
    {
     "data": {
      "text/plain": "          CSD ID         chemical name\n167061    DUCKOB  Decadeutero-n-butane\n167062  DUCKOB01  Decadeutero-n-butane\n167063  DUCKOB02  Decadeutero-n-butane\n167064  DUCKOB03  Decadeutero-n-butane\n167065  DUCKOB04              n-Butane\n167066  DUCKOB05                butane\n167067  DUCKOB06                butane\n167068  DUCKOB07                butane\n167069  DUCKOB08                butane\n167070  DUCKOB09                butane",
      "text/html": "<div>\n<style scoped>\n    .dataframe tbody tr th:only-of-type {\n        vertical-align: middle;\n    }\n\n    .dataframe tbody tr th {\n        vertical-align: top;\n    }\n\n    .dataframe thead th {\n        text-align: right;\n    }\n</style>\n<table border=\"1\" class=\"dataframe\">\n  <thead>\n    <tr style=\"text-align: right;\">\n      <th></th>\n      <th>CSD ID</th>\n      <th>chemical name</th>\n    </tr>\n  </thead>\n  <tbody>\n    <tr>\n      <th>167061</th>\n      <td>DUCKOB</td>\n      <td>Decadeutero-n-butane</td>\n    </tr>\n    <tr>\n      <th>167062</th>\n      <td>DUCKOB01</td>\n      <td>Decadeutero-n-butane</td>\n    </tr>\n    <tr>\n      <th>167063</th>\n      <td>DUCKOB02</td>\n      <td>Decadeutero-n-butane</td>\n    </tr>\n    <tr>\n      <th>167064</th>\n      <td>DUCKOB03</td>\n      <td>Decadeutero-n-butane</td>\n    </tr>\n    <tr>\n      <th>167065</th>\n      <td>DUCKOB04</td>\n      <td>n-Butane</td>\n    </tr>\n    <tr>\n      <th>167066</th>\n      <td>DUCKOB05</td>\n      <td>butane</td>\n    </tr>\n    <tr>\n      <th>167067</th>\n      <td>DUCKOB06</td>\n      <td>butane</td>\n    </tr>\n    <tr>\n      <th>167068</th>\n      <td>DUCKOB07</td>\n      <td>butane</td>\n    </tr>\n    <tr>\n      <th>167069</th>\n      <td>DUCKOB08</td>\n      <td>butane</td>\n    </tr>\n    <tr>\n      <th>167070</th>\n      <td>DUCKOB09</td>\n      <td>butane</td>\n    </tr>\n  </tbody>\n</table>\n</div>"
     },
     "execution_count": 16,
     "metadata": {},
     "output_type": "execute_result"
    }
   ],
   "source": [
    "D[D['CSD ID'].str.contains('DUCKOB')][['CSD ID', 'chemical name']]"
   ]
  },
  {
   "cell_type": "markdown",
   "id": "97e4019d",
   "metadata": {
    "pycharm": {
     "name": "#%% md\n"
    }
   },
   "source": [
    "We note that there are three different names associated with this CSD: \"Decadeutero-n-butane\", \"n-Butane\" and \"butane\". Among these, only the last two names exist in our word2vec model. And then there are also combination of these cases:"
   ]
  },
  {
   "cell_type": "code",
   "execution_count": 17,
   "id": "5fc6754a",
   "metadata": {
    "pycharm": {
     "name": "#%%\n"
    }
   },
   "outputs": [
    {
     "data": {
      "text/plain": "                   entries                                           mentions  \\\n234  anthracene-9,10-dione  [23036, 23037, 23038, 23039, 23040, 23041, 230...   \n458     9,10-anthraquinone                                            [23035]   \n847     9,10-Anthraquinone                                            [23034]   \n\n     csd_id  \n234  ANTQUO  \n458  ANTQUO  \n847  ANTQUO  ",
      "text/html": "<div>\n<style scoped>\n    .dataframe tbody tr th:only-of-type {\n        vertical-align: middle;\n    }\n\n    .dataframe tbody tr th {\n        vertical-align: top;\n    }\n\n    .dataframe thead th {\n        text-align: right;\n    }\n</style>\n<table border=\"1\" class=\"dataframe\">\n  <thead>\n    <tr style=\"text-align: right;\">\n      <th></th>\n      <th>entries</th>\n      <th>mentions</th>\n      <th>csd_id</th>\n    </tr>\n  </thead>\n  <tbody>\n    <tr>\n      <th>234</th>\n      <td>anthracene-9,10-dione</td>\n      <td>[23036, 23037, 23038, 23039, 23040, 23041, 230...</td>\n      <td>ANTQUO</td>\n    </tr>\n    <tr>\n      <th>458</th>\n      <td>9,10-anthraquinone</td>\n      <td>[23035]</td>\n      <td>ANTQUO</td>\n    </tr>\n    <tr>\n      <th>847</th>\n      <td>9,10-Anthraquinone</td>\n      <td>[23034]</td>\n      <td>ANTQUO</td>\n    </tr>\n  </tbody>\n</table>\n</div>"
     },
     "execution_count": 17,
     "metadata": {},
     "output_type": "execute_result"
    }
   ],
   "source": [
    "crystals[crystals.csd_id == csd_with_diff_names[0]]"
   ]
  },
  {
   "cell_type": "markdown",
   "id": "62a40ba7",
   "metadata": {
    "pycharm": {
     "name": "#%% md\n"
    }
   },
   "source": [
    "## Identify CSDs for Names More Accurately\n",
    "We used to identify CSD of any given name such that all variations of its CSD is also considered. For example, for \"DUCKOB\", considering all variations of CSD gives us \"Decadeutero-n-butane\" too, which seems slightly different than \"butane\" than is included in our word2vec vocabulary.\n",
    "\n",
    "Hence, here we take each given chemical name, and only consider those CSD variations whose names exactly (up to uppercase letters) match our candidate."
   ]
  },
  {
   "cell_type": "code",
   "execution_count": 18,
   "id": "4fabd379",
   "metadata": {
    "pycharm": {
     "name": "#%%\n"
    }
   },
   "outputs": [],
   "source": [
    "target_names = crystals['entries'].values"
   ]
  },
  {
   "cell_type": "code",
   "execution_count": 19,
   "id": "2e10b653",
   "metadata": {
    "pycharm": {
     "name": "#%%\n"
    }
   },
   "outputs": [],
   "source": [
    "D['chemical name'] = D['chemical name'].str.lower()\n",
    "D['synonyms'] = D['synonyms'].str.lower()"
   ]
  },
  {
   "cell_type": "code",
   "execution_count": 20,
   "id": "58296fed",
   "metadata": {
    "pycharm": {
     "name": "#%%\n"
    }
   },
   "outputs": [],
   "source": [
    "# we do not differ upper- or lower-case letters\n",
    "target_names = np.unique([x.lower() for x in target_names])"
   ]
  },
  {
   "cell_type": "code",
   "execution_count": 22,
   "id": "9c9e6f69",
   "metadata": {
    "pycharm": {
     "name": "#%%\n"
    }
   },
   "outputs": [
    {
     "name": "stderr",
     "output_type": "stream",
     "text": [
      "100%|██████████| 1421/1421 [02:08<00:00, 11.04it/s]"
     ]
    },
    {
     "name": "stdout",
     "output_type": "stream",
     "text": [
      "CPU times: user 2min 6s, sys: 1.66 s, total: 2min 8s\n",
      "Wall time: 2min 8s\n"
     ]
    },
    {
     "name": "stderr",
     "output_type": "stream",
     "text": [
      "\n"
     ]
    }
   ],
   "source": [
    "%%time\n",
    "name2csd = {}\n",
    "for name in tqdm(target_names):\n",
    "    csds = D[(D['chemical name'] == name) | (D['synonyms'] == name)]['CSD ID'].values\n",
    "    name2csd[name] = csds.tolist()"
   ]
  },
  {
   "cell_type": "markdown",
   "id": "8e7d0694",
   "metadata": {
    "pycharm": {
     "name": "#%% md\n"
    }
   },
   "source": [
    "*Minor Issue:* It seems that some terms are equivalent to each other (this is because we foudn that some CSDs are associated with two names after exact-matching). Here is the list manually compiled:\n",
    "* \"acetaminophen\"   & \"paracetamol\"\n",
    "* \"bianthrone\" & \"dianthraquinone\"\n",
    "* \"hydroquinone\" & \"benzene-1,4-diol\"\n",
    "* \"2-methylphenol\" & \"o-cresol\"\n",
    "* \"s-triazine\" & \"1,3,5-triazine\"\n",
    "* \"m-dinitrobenzene\" & \"1,3-dinitrobenzene\t\""
   ]
  },
  {
   "cell_type": "code",
   "execution_count": 185,
   "id": "10b091fc",
   "metadata": {
    "pycharm": {
     "name": "#%%\n"
    }
   },
   "outputs": [],
   "source": [
    "to_remove = ['paracetamol', 'dianthraquinone', 'benzene-1,4-diol', 'o-cresol', '1,3,5-triazine', '1,3-dinitrobenzene']\n",
    "\n",
    "[name2csd.pop(x) for x in to_remove]"
   ]
  },
  {
   "cell_type": "code",
   "execution_count": 225,
   "id": "e34f4fe7",
   "metadata": {
    "pycharm": {
     "name": "#%%\n"
    }
   },
   "outputs": [],
   "source": [
    "# saving the dictionary\n",
    "with open(\"name_to_csd.json\", \"w\") as f:\n",
    "    json.dump(name2csd, f, indent=True)"
   ]
  },
  {
   "cell_type": "markdown",
   "id": "def3726c",
   "metadata": {
    "pycharm": {
     "name": "#%% md\n"
    }
   },
   "source": [
    "## Extracting the Relevant Sub-matrix"
   ]
  },
  {
   "cell_type": "code",
   "execution_count": 25,
   "id": "bddaa729",
   "metadata": {
    "pycharm": {
     "name": "#%%\n"
    }
   },
   "outputs": [],
   "source": [
    "# all the CSDs that are involved\n",
    "target_csds = sum(name2csd.values(), [])"
   ]
  },
  {
   "cell_type": "code",
   "execution_count": 29,
   "id": "b2a77a6d",
   "metadata": {
    "pycharm": {
     "name": "#%%\n"
    }
   },
   "outputs": [],
   "source": [
    "store = pd.HDFStore('./data_c/entry_mention_vs_CSD_AMD100_dm.h5')"
   ]
  },
  {
   "cell_type": "code",
   "execution_count": 30,
   "id": "12039e62",
   "metadata": {
    "pycharm": {
     "name": "#%%\n"
    }
   },
   "outputs": [],
   "source": [
    "# get the first chunk to set up the column-locator\n",
    "chunk = store.select('df', start=0, stop=100)\n",
    "cols = chunk.columns\n",
    "cols_locator = cols.isin(target_csds)"
   ]
  },
  {
   "cell_type": "code",
   "execution_count": 217,
   "id": "2ad59e76",
   "metadata": {
    "pycharm": {
     "name": "#%%\n"
    }
   },
   "outputs": [
    {
     "name": "stderr",
     "output_type": "stream",
     "text": [
      "100%|███████████████████████████████████████████████████████████| 40/40 [01:23<00:00,  2.09s/it]"
     ]
    },
    {
     "name": "stdout",
     "output_type": "stream",
     "text": [
      "CPU times: user 1min 4s, sys: 18.3 s, total: 1min 23s\n",
      "Wall time: 1min 23s\n"
     ]
    },
    {
     "name": "stderr",
     "output_type": "stream",
     "text": [
      "\n"
     ]
    }
   ],
   "source": [
    "%%time\n",
    "\n",
    "submat = pd.DataFrame([])\n",
    "\n",
    "# I already checked it out and saw that the number of rows in the larger matrix is 3926,\n",
    "# hence we need 39+1=40 iterations (assuming the chunk size is 100)\n",
    "for i in tqdm(range(40)):\n",
    "    chunk = store.select('df', start=i * 100, stop=(i + 1) * 100)\n",
    "    row_locator = chunk.index.isin(target_csds)\n",
    "    # double check if the order of columns does not change across the chunks\n",
    "    assert np.all(chunk.columns == cols), \"Order of the columns suddenly changed in the {}-th chunk.\".format(i)\n",
    "    # get the submatrix in the chunk and append it to the previous submatrices\n",
    "    sub_chunk = chunk.iloc[row_locator, cols_locator]\n",
    "    submat = pd.concat((submat, sub_chunk), axis=0)"
   ]
  },
  {
   "cell_type": "code",
   "execution_count": 218,
   "id": "2ab56c65",
   "metadata": {
    "pycharm": {
     "name": "#%%\n"
    }
   },
   "outputs": [
    {
     "data": {
      "text/plain": [
       "(2658, 3064)"
      ]
     },
     "execution_count": 218,
     "metadata": {},
     "output_type": "execute_result"
    }
   ],
   "source": [
    "submat.shape"
   ]
  },
  {
   "cell_type": "code",
   "execution_count": 222,
   "id": "51c259a4",
   "metadata": {
    "pycharm": {
     "name": "#%%\n"
    }
   },
   "outputs": [],
   "source": [
    "submat.to_csv('mst_dists_submatrix.csv')"
   ]
  },
  {
   "cell_type": "markdown",
   "source": [],
   "metadata": {
    "collapsed": false,
    "pycharm": {
     "name": "#%% md\n"
    }
   }
  },
  {
   "cell_type": "code",
   "execution_count": 23,
   "id": "0e6fc676",
   "metadata": {
    "pycharm": {
     "name": "#%%\n"
    }
   },
   "outputs": [],
   "source": [
    "submat=pd.read_csv('./data_c/mst_dists_submatrix.csv')"
   ]
  }
 ],
 "metadata": {
  "kernelspec": {
   "display_name": "Python 3 (ipykernel)",
   "language": "python",
   "name": "python3"
  },
  "language_info": {
   "codemirror_mode": {
    "name": "ipython",
    "version": 3
   },
   "file_extension": ".py",
   "mimetype": "text/x-python",
   "name": "python",
   "nbconvert_exporter": "python",
   "pygments_lexer": "ipython3",
   "version": "3.7.4"
  }
 },
 "nbformat": 4,
 "nbformat_minor": 5
}