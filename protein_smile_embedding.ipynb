{
 "cells": [
  {
   "cell_type": "code",
   "execution_count": null,
   "metadata": {
    "collapsed": true,
    "pycharm": {
     "name": "#%%\n"
    }
   },
   "outputs": [],
   "source": [
    "import cirpy\n",
    "import json\n",
    "import matplotlib.pyplot as plt\n",
    "import numpy as np\n",
    "import pandas as pd\n",
    "import time\n",
    "from gensim.models import Word2Vec\n",
    "from rdkit import Chem\n",
    "from rdkit.Chem import rdMolDescriptors\n",
    "from scipy.stats import pearsonr, spearmanr\n",
    "from tqdm import tqdm"
   ]
  },
  {
   "cell_type": "markdown",
   "source": [
    "# Get the SMILES and IUPAC Format"
   ],
   "metadata": {
    "collapsed": false,
    "pycharm": {
     "name": "#%% md\n"
    }
   }
  },
  {
   "cell_type": "code",
   "execution_count": null,
   "outputs": [],
   "source": [
    "name2csd = json.load(open('./data_c/name_to_csd.json'))\n",
    "name2smile_csd = dict()\n",
    "l = list(enumerate(name2csd.keys()))\n",
    "for idx, nm in l:\n",
    "    smile = cirpy.resolve(nm, 'smiles')\n",
    "    if smile:\n",
    "        name2smile_csd[nm] = (smile, name2csd[nm])\n",
    "        print(smile)\n",
    "    time.sleep(1)"
   ],
   "metadata": {
    "collapsed": false,
    "pycharm": {
     "name": "#%%\n"
    }
   }
  },
  {
   "cell_type": "code",
   "execution_count": null,
   "outputs": [],
   "source": [
    "for idx, nm in l[21:]:\n",
    "    smile = cirpy.resolve(nm, 'smiles')\n",
    "    if smile:\n",
    "        name2smile_csd[nm] = (smile, name2csd[nm])\n",
    "        print(smile)\n",
    "    time.sleep(1)\n",
    "\n",
    "with open(\"name_to_smile.json\", \"w\") as f:\n",
    "    json.dump(name2smile_csd, f, indent=True)"
   ],
   "metadata": {
    "collapsed": false,
    "pycharm": {
     "name": "#%%\n"
    }
   }
  },
  {
   "cell_type": "code",
   "execution_count": null,
   "outputs": [],
   "source": [
    "name2smile = json.load(open('./name_to_smile.json'))\n",
    "len(name2smile_csd.keys())"
   ],
   "metadata": {
    "collapsed": false,
    "pycharm": {
     "name": "#%%\n"
    }
   }
  },
  {
   "cell_type": "code",
   "execution_count": null,
   "outputs": [],
   "source": [
    "name2mol = dict()\n",
    "for nm in list(name2smile.keys()):\n",
    "    sm = name2smile[nm][0]\n",
    "    mol = Chem.MolFromSmiles(sm)\n",
    "    mc = rdMolDescriptors.CalcMolFormula(mol)\n",
    "    name2mol[nm] = mc\n",
    "\n",
    "with open(\"name_to_mol.json\", \"w\") as f:\n",
    "    json.dump(name2mol, f, indent=True)"
   ],
   "metadata": {
    "collapsed": false,
    "pycharm": {
     "name": "#%%\n"
    }
   }
  },
  {
   "cell_type": "markdown",
   "source": [
    "# Relocate the Chemistries"
   ],
   "metadata": {
    "collapsed": false,
    "pycharm": {
     "name": "#%% md\n"
    }
   }
  },
  {
   "cell_type": "code",
   "execution_count": null,
   "outputs": [],
   "source": [
    "crystals = pd.read_csv('./data_c/entry_mention.csv')\n",
    "crystals"
   ],
   "metadata": {
    "collapsed": false,
    "pycharm": {
     "name": "#%%\n"
    }
   }
  },
  {
   "cell_type": "code",
   "execution_count": null,
   "outputs": [],
   "source": [
    "D = pd.read_csv('./data_c/crystals_wdoi.csv')\n",
    "D"
   ],
   "metadata": {
    "collapsed": false,
    "pycharm": {
     "name": "#%%\n"
    }
   }
  },
  {
   "cell_type": "code",
   "execution_count": null,
   "outputs": [],
   "source": [
    "w2v_md = Word2Vec.load('./models/pubmed.model')"
   ],
   "metadata": {
    "collapsed": false,
    "pycharm": {
     "name": "#%%\n"
    }
   }
  },
  {
   "cell_type": "code",
   "execution_count": null,
   "outputs": [],
   "source": [
    "target_names = crystals['entries'].values\n",
    "target_names = np.unique(target_names)\n",
    "D['chemical name L'] = D['chemical name'].str.lower()\n",
    "D['synonyms L'] = D['synonyms'].str.lower()"
   ],
   "metadata": {
    "collapsed": false,
    "pycharm": {
     "name": "#%%\n"
    }
   }
  },
  {
   "cell_type": "code",
   "execution_count": null,
   "outputs": [],
   "source": [
    "% % time\n",
    "name2csd = dict()\n",
    "for name in tqdm(target_names):\n",
    "    csds = D[(D['chemical name L'] == name.lower()) | (D['synonyms L'] == name.lower())]['CSD ID'].values\n",
    "    name2csd[name] = csds.tolist()"
   ],
   "metadata": {
    "collapsed": false,
    "pycharm": {
     "name": "#%%\n"
    }
   }
  },
  {
   "cell_type": "code",
   "execution_count": null,
   "outputs": [],
   "source": [
    "with open(\"name_to_csd.json\", \"w\") as f:\n",
    "    json.dump(name2csd, f, indent=True)"
   ],
   "metadata": {
    "collapsed": false,
    "pycharm": {
     "name": "#%%\n"
    }
   }
  },
  {
   "cell_type": "code",
   "execution_count": null,
   "outputs": [],
   "source": [
    "len(name2csd)"
   ],
   "metadata": {
    "collapsed": false,
    "pycharm": {
     "name": "#%%\n"
    }
   }
  },
  {
   "cell_type": "code",
   "execution_count": null,
   "outputs": [],
   "source": [
    "name2smile_csd = dict()\n",
    "l = list(enumerate(name2csd.keys()))\n",
    "for idx, nm in l:\n",
    "    smile = cirpy.resolve(nm, 'smiles')\n",
    "    if smile:\n",
    "        name2smile_csd[nm] = (smile, name2csd[nm])\n",
    "        print(smile)\n",
    "    time.sleep(1)"
   ],
   "metadata": {
    "collapsed": false,
    "pycharm": {
     "name": "#%%\n"
    }
   }
  },
  {
   "cell_type": "code",
   "execution_count": null,
   "outputs": [],
   "source": [
    "for idx, nm in l[21:]:\n",
    "    smile = cirpy.resolve(nm, 'smiles')\n",
    "    if smile:\n",
    "        name2smile_csd[nm] = (smile, name2csd[nm])\n",
    "        print(smile)\n",
    "    time.sleep(1)\n",
    "\n",
    "with open(\"name_to_smile.json\", \"w\") as f:\n",
    "    json.dump(name2smile_csd, f, indent=True)"
   ],
   "metadata": {
    "collapsed": false,
    "pycharm": {
     "name": "#%%\n"
    }
   }
  },
  {
   "cell_type": "code",
   "execution_count": null,
   "outputs": [],
   "source": [
    "def get_euler_dist(v1, v2):\n",
    "    vi = np.array(v1).reshape([-1])\n",
    "    vj = np.array(v2).reshape([-1])\n",
    "    return np.sqrt(np.sum(np.square(vi - vj)))\n",
    "\n",
    "\n",
    "def get_cos_similar(v1, v2):\n",
    "    vi = np.array(v1).reshape([-1])\n",
    "    vj = np.array(v2).reshape([-1])\n",
    "\n",
    "    num = float(np.dot(vi, vj))  # 向量点乘\n",
    "    denom = np.linalg.norm(vi) * np.linalg.norm(vj)  # 求模长的乘积\n",
    "    return (num / denom) if denom != 0 else 0"
   ],
   "metadata": {
    "collapsed": false,
    "pycharm": {
     "name": "#%%\n"
    }
   }
  },
  {
   "cell_type": "code",
   "execution_count": null,
   "outputs": [],
   "source": [
    "smile_embd = pd.read_csv('./smile_embedding.csv')\n",
    "smile_embd"
   ],
   "metadata": {
    "collapsed": false,
    "pycharm": {
     "name": "#%%\n"
    }
   }
  },
  {
   "cell_type": "code",
   "execution_count": null,
   "outputs": [],
   "source": [
    "\n",
    "for idx, i_row in smile_embd.iterrows():\n",
    "    for jdx, j_row in smile_embd[idx + 1:].iterrows():\n",
    "        if i_row['iupac'].lower() == j_row['iupac'].lower():\n",
    "            print(idx, jdx, i_row['iupac'], j_row['iupac'])\n",
    "            smile_embd.drop(index=jdx, inplace=True)\n",
    "smile_embd"
   ],
   "metadata": {
    "collapsed": false,
    "pycharm": {
     "name": "#%%\n"
    }
   }
  },
  {
   "cell_type": "code",
   "execution_count": null,
   "outputs": [],
   "source": [
    "%%time\n",
    "nm = list(smile_embd['iupac'])\n",
    "\n",
    "str_df = pd.DataFrame(columns=nm, index=nm)\n",
    "sem_df = pd.DataFrame(columns=nm, index=nm)\n",
    "\n",
    "for i, name in tqdm(enumerate(nm)):\n",
    "    semvec1 = w2v_md.wv[name]\n",
    "    strvec1 = [float(i) for i in smile_embd['embd'].iloc[i][1:-1].split()]\n",
    "    for j in range(i):\n",
    "        strvec2 = [float(i) for i in smile_embd['embd'].iloc[j][1:-1].split()]\n",
    "        sem_cos = get_cos_similar(semvec1, w2v_md.wv[nm[j]])\n",
    "        str_euler = get_euler_dist(strvec1, strvec2)\n",
    "\n",
    "        str_df.iloc[i, j] = str_euler\n",
    "        str_df.iloc[j, i] = str_euler\n",
    "        sem_df.iloc[i, j] = sem_cos\n",
    "        sem_df.iloc[j, i] = sem_cos\n",
    "sem_df"
   ],
   "metadata": {
    "collapsed": false,
    "pycharm": {
     "name": "#%%\n"
    }
   }
  },
  {
   "cell_type": "code",
   "execution_count": null,
   "outputs": [],
   "source": [
    "str_df"
   ],
   "metadata": {
    "collapsed": false,
    "pycharm": {
     "name": "#%%\n"
    }
   }
  },
  {
   "cell_type": "code",
   "execution_count": null,
   "outputs": [],
   "source": [
    "sem_df.to_csv('./sementic_df.csv')\n",
    "str_df.to_csv('./structural_df.csv')"
   ],
   "metadata": {
    "collapsed": false,
    "pycharm": {
     "name": "#%%\n"
    }
   }
  },
  {
   "cell_type": "code",
   "execution_count": null,
   "outputs": [],
   "source": [
    "str_df=pd.read_csv('./structural_df.csv')\n",
    "str_df.index=list(str_df['Unnamed: 0'])\n",
    "str_df.drop(columns='Unnamed: 0',inplace=True)\n",
    "str_df"
   ],
   "metadata": {
    "collapsed": false,
    "pycharm": {
     "name": "#%%\n"
    }
   }
  },
  {
   "cell_type": "code",
   "execution_count": null,
   "outputs": [],
   "source": [
    "sem_df=pd.read_csv('./sementic_df.csv')\n",
    "sem_df.index=list(sem_df['Unnamed: 0'])\n",
    "sem_df.drop(columns='Unnamed: 0',inplace=True)\n",
    "sem_df"
   ],
   "metadata": {
    "collapsed": false,
    "pycharm": {
     "name": "#%%\n"
    }
   }
  },
  {
   "cell_type": "code",
   "execution_count": null,
   "outputs": [],
   "source": [
    "def get_scatter(sem_df, str_df, threshod=10, getplt=False):\n",
    "    nm = list(sem_df.columns)\n",
    "    nm_thre = [name for name in nm if w2v_md.wv.vocab[name].count > threshod]\n",
    "    op_sem_df = sem_df.loc[nm_thre, nm_thre]\n",
    "    op_str_df = str_df.loc[nm_thre, nm_thre]\n",
    "    X = []\n",
    "    y = []\n",
    "    for i in range(len(op_sem_df)):\n",
    "        for j in range(i - 1):\n",
    "            X.append(op_str_df.iloc[i, j])\n",
    "            y.append(op_sem_df.iloc[i, j])\n",
    "\n",
    "    sp = spearmanr(X, y)\n",
    "    pr = pearsonr(X, y)\n",
    "    if getplt:\n",
    "        plt.title(\"Threshod {} distances\\nCount of Samples: {}\".format(threshod, len(y)))\n",
    "        plt.ylabel(\"Semantic Cosine Similarity\")\n",
    "        plt.xlabel(\"Structural Distance\")\n",
    "        plt.scatter(X, y)\n",
    "        plt.show()\n",
    "        print(sp)\n",
    "        print(pr)\n",
    "\n",
    "    return sp, pr, len(nm_thre)"
   ],
   "metadata": {
    "collapsed": false,
    "pycharm": {
     "name": "#%%\n"
    }
   }
  },
  {
   "cell_type": "code",
   "execution_count": null,
   "outputs": [],
   "source": [
    "res = get_scatter(sem_df, str_df, threshod=10, getplt=True)"
   ],
   "metadata": {
    "collapsed": false,
    "pycharm": {
     "name": "#%%\n"
    }
   }
  },
  {
   "cell_type": "code",
   "execution_count": null,
   "outputs": [],
   "source": [
    "res = get_scatter(sem_df, str_df, threshod=100, getplt=True)"
   ],
   "metadata": {
    "collapsed": false,
    "pycharm": {
     "name": "#%%\n"
    }
   }
  },
  {
   "cell_type": "code",
   "execution_count": null,
   "outputs": [],
   "source": [
    "res = get_scatter(sem_df, str_df, threshod=1000, getplt=True)"
   ],
   "metadata": {
    "collapsed": false,
    "pycharm": {
     "name": "#%%\n"
    }
   }
  },
  {
   "cell_type": "code",
   "execution_count": null,
   "outputs": [],
   "source": [
    "%%time\n",
    "thresholds = np.arange(0, 10000, 10)\n",
    "sp_coefs = np.zeros(len(thresholds))\n",
    "sp_pvals = np.zeros(len(thresholds))\n",
    "pr_coefs = np.zeros(len(thresholds))\n",
    "pr_pvals = np.zeros(len(thresholds))\n",
    "nrows = np.zeros(len(thresholds))\n",
    "for i, thr in tqdm(list(enumerate(thresholds))):\n",
    "    res = get_scatter(sem_df, str_df, threshod=thr)\n",
    "    sp_coefs[i] = res[0][0]\n",
    "    sp_pvals[i] = np.log(res[0][1]) if res[0][1] > 0 else np.nan\n",
    "    pr_coefs[i] = res[1][0]\n",
    "    pr_pvals[i] = np.log(res[1][1]) if res[1][1] > 0 else np.nan\n",
    "    nrows[i] = res[2]"
   ],
   "metadata": {
    "collapsed": false,
    "pycharm": {
     "name": "#%%\n"
    }
   }
  },
  {
   "cell_type": "code",
   "execution_count": null,
   "outputs": [],
   "source": [
    "fig, axes = plt.subplots(1, 3, figsize=(12, 4))\n",
    "axes[0].plot(thresholds, pr_coefs, lw=2, label='Pearson')\n",
    "axes[0].plot(thresholds, sp_coefs, lw=2, label='Spearman')\n",
    "axes[0].set_xlim([0, 10000])\n",
    "axes[0].set_ylabel('Correlation Coefficients', fontsize=15)\n",
    "axes[0].set_xlabel('Threshold on Mentions', fontsize=15)\n",
    "axes[0].legend(fontsize=15, loc=1)\n",
    "\n",
    "axes[1].plot(thresholds, pr_pvals, lw=2, label='Pearson')\n",
    "axes[1].plot(thresholds, sp_pvals, lw=2, label='Spearman')\n",
    "axes[1].axhline(y=np.log(0.01), color='r', ls='--', label='log(0.01)')\n",
    "axes[1].set_xlim([-300, 10000])\n",
    "axes[1].set_ylabel('Log(p-value)', fontsize=15)\n",
    "axes[1].set_xlabel('Threshold on Mentions', fontsize=15)\n",
    "axes[1].legend(fontsize=15, loc=4)\n",
    "\n",
    "axes[2].plot(thresholds, nrows, lw=2, color='indianred', label='No. Columns')\n",
    "axes[2].set_xlim([-300, 10000])\n",
    "axes[2].set_ylabel('Number of Crystals', fontsize=15, labelpad=-5)\n",
    "axes[2].set_xlabel('Threshold on Mentions', fontsize=15)\n",
    "\n",
    "plt.subplots_adjust(right=1.3)"
   ],
   "metadata": {
    "collapsed": false,
    "pycharm": {
     "name": "#%%\n"
    }
   }
  },
  {
   "cell_type": "code",
   "execution_count": null,
   "outputs": [],
   "source": [
    "{\n",
    "    \"depth\": 2,\n",
    "    \"phrase_count\": 10,\n",
    "    \"phrase_threshold\": 15,\n",
    "    \"size\": 200,\n",
    "    \"window\": 8,\n",
    "    \"min_count\": 5,\n",
    "    \"sg\": True,\n",
    "    \"hs\": True,\n",
    "    \"workers\": 20,\n",
    "    \"negative\": 15,\n",
    "    \"alpha\": 0.01,\n",
    "    \"subsample\": 0.0001,\n",
    "    \"batch\": 5000,\n",
    "    \"epochs\": 30\n",
    "}"
   ],
   "metadata": {
    "collapsed": false,
    "pycharm": {
     "name": "#%%\n"
    }
   }
  },
  {
   "cell_type": "code",
   "execution_count": null,
   "outputs": [],
   "source": [
    "pd.read_csv('smile_embedding.csv')"
   ],
   "metadata": {
    "collapsed": false,
    "pycharm": {
     "name": "#%%\n"
    }
   }
  },
  {
   "cell_type": "code",
   "execution_count": null,
   "outputs": [],
   "source": [],
   "metadata": {
    "collapsed": false,
    "pycharm": {
     "name": "#%%\n"
    }
   }
  }
 ],
 "metadata": {
  "kernelspec": {
   "display_name": "Python 3",
   "language": "python",
   "name": "python3"
  },
  "language_info": {
   "codemirror_mode": {
    "name": "ipython",
    "version": 2
   },
   "file_extension": ".py",
   "mimetype": "text/x-python",
   "name": "python",
   "nbconvert_exporter": "python",
   "pygments_lexer": "ipython2",
   "version": "2.7.6"
  }
 },
 "nbformat": 4,
 "nbformat_minor": 0
}